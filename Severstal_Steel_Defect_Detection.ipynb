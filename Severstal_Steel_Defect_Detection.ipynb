{
  "cells": [
    {
      "cell_type": "markdown",
      "metadata": {
        "id": "JJlSI2sgBnos"
      },
      "source": [
        "## Severstal: Steel Defect Detection"
      ]
    },
    {
      "cell_type": "markdown",
      "metadata": {
        "id": "XVYoh0tmEpeG"
      },
      "source": [
        "This is to build a predictive model for the Kaagle competition - Severstal: Steel Defect Detection. There are steel images with different categories of defects in specific pixels on these images. Our task is to find out where do the defects locate using pixel to demonstrate, and also to distinguisg to which defect category(1, 2, 3, or 4)they belong.\n",
        "\n",
        "For details, please refer to https://www.kaggle.com/c/severstal-steel-defect-detection"
      ]
    },
    {
      "cell_type": "markdown",
      "metadata": {
        "id": "9GfikOsjJUM6"
      },
      "source": [
        "### Outline\n",
        "The all process would be summarized into the following steps.\n",
        "\n",
        "> **1. Data preprocessing and EDA** - In this sector, I'll load the *train.csv* and also the image IDs from *train_images* folder, and collected them into dafaframes for clearer information.\n",
        "\n",
        "> **2. Functions needed** - I designed some functions in this sector for later use.\n",
        "\n",
        "> **3. Build first model** - The first model is to predict whether there are some defects in each image\n",
        "\n",
        "> **4. Build second model** - The second model is to predict the defects' pixel location on the images which were predicted as *with defect* from the first model\n",
        "\n",
        "> **5. Make prediction on the test images**"
      ]
    },
    {
      "cell_type": "markdown",
      "metadata": {
        "id": "QDhYnzEWBsNi"
      },
      "source": [
        "### Pre-work\n",
        "Please mount with your gmail account, and reset the directory path to where you stored your data in order to run my code successfully. I recommand to run this code on Google Colab to avoid unexpected errors."
      ]
    },
    {
      "cell_type": "code",
      "execution_count": null,
      "metadata": {
        "id": "r7HDWBqyqwSM"
      },
      "outputs": [],
      "source": [
        "from google.colab import files"
      ]
    },
    {
      "cell_type": "code",
      "execution_count": null,
      "metadata": {
        "colab": {
          "base_uri": "https://localhost:8080/",
          "height": 35
        },
        "id": "j6193xEPqiAr",
        "outputId": "006765e1-9312-4902-b32b-97bd00fa2f6e"
      },
      "outputs": [
        {
          "name": "stdout",
          "output_type": "stream",
          "text": [
            "Drive already mounted at /content/drive; to attempt to forcibly remount, call drive.mount(\"/content/drive\", force_remount=True).\n"
          ]
        }
      ],
      "source": [
        "from google.colab import drive\n",
        "drive.mount('/content/drive')"
      ]
    },
    {
      "cell_type": "code",
      "execution_count": null,
      "metadata": {
        "id": "t6CscVqCqOmx"
      },
      "outputs": [],
      "source": [
        "base_dir = '/content/drive/My Drive/Colab Notebooks/QBS HW3'\n",
        "train_dir = base_dir + '/train_images'\n",
        "test_dir = base_dir + '/test_images'"
      ]
    },
    {
      "cell_type": "code",
      "execution_count": null,
      "metadata": {
        "id": "ZYAj3yC0PO3E"
      },
      "outputs": [],
      "source": [
        "import pandas as pd\n",
        "import numpy as np\n",
        "import matplotlib.pyplot as plt\n",
        "import gc\n",
        "\n",
        "import os\n",
        "import cv2\n",
        "from sklearn.model_selection import train_test_split\n",
        "\n",
        "import keras\n",
        "from keras import layers\n",
        "from keras.models import Sequential\n",
        "from keras.models import Model, load_model\n",
        "from keras.layers import Input\n",
        "from keras.layers.convolutional import Conv2D, Conv2DTranspose\n",
        "from keras.layers.pooling import MaxPooling2D\n",
        "from keras.layers.merge import concatenate\n",
        "from keras.callbacks import Callback, ModelCheckpoint\n",
        "from keras.preprocessing import image\n",
        "from keras.preprocessing.image import ImageDataGenerator"
      ]
    },
    {
      "cell_type": "markdown",
      "metadata": {
        "id": "epDZQx1wqyYx"
      },
      "source": [
        "### Data preprocessing and EDA"
      ]
    },
    {
      "cell_type": "markdown",
      "metadata": {
        "id": "uN4rbAv-oKNq"
      },
      "source": [
        "#### Build training-related dataframes"
      ]
    },
    {
      "cell_type": "code",
      "execution_count": null,
      "metadata": {
        "colab": {
          "base_uri": "https://localhost:8080/",
          "height": 355
        },
        "id": "ma_GG8FpobMl",
        "outputId": "600df02a-9211-4717-827f-dd472ca0b6e4"
      },
      "outputs": [
        {
          "data": {
            "text/html": [
              "<div>\n",
              "<style scoped>\n",
              "    .dataframe tbody tr th:only-of-type {\n",
              "        vertical-align: middle;\n",
              "    }\n",
              "\n",
              "    .dataframe tbody tr th {\n",
              "        vertical-align: top;\n",
              "    }\n",
              "\n",
              "    .dataframe thead th {\n",
              "        text-align: right;\n",
              "    }\n",
              "</style>\n",
              "<table border=\"1\" class=\"dataframe\">\n",
              "  <thead>\n",
              "    <tr style=\"text-align: right;\">\n",
              "      <th></th>\n",
              "      <th>ImageId</th>\n",
              "      <th>ClassId</th>\n",
              "      <th>EncodedPixels</th>\n",
              "    </tr>\n",
              "  </thead>\n",
              "  <tbody>\n",
              "    <tr>\n",
              "      <th>0</th>\n",
              "      <td>1</td>\n",
              "      <td>1</td>\n",
              "      <td>29102 12 29346 24 29602 24 29858 24 30114 24 3...</td>\n",
              "    </tr>\n",
              "    <tr>\n",
              "      <th>1</th>\n",
              "      <td>5</td>\n",
              "      <td>3</td>\n",
              "      <td>18661 28 18863 82 19091 110 19347 110 19603 11...</td>\n",
              "    </tr>\n",
              "    <tr>\n",
              "      <th>2</th>\n",
              "      <td>6</td>\n",
              "      <td>1</td>\n",
              "      <td>37607 3 37858 8 38108 14 38359 20 38610 25 388...</td>\n",
              "    </tr>\n",
              "    <tr>\n",
              "      <th>3</th>\n",
              "      <td>7</td>\n",
              "      <td>4</td>\n",
              "      <td>131973 1 132228 4 132483 6 132738 8 132993 11 ...</td>\n",
              "    </tr>\n",
              "    <tr>\n",
              "      <th>4</th>\n",
              "      <td>8</td>\n",
              "      <td>3</td>\n",
              "      <td>229501 11 229741 33 229981 55 230221 77 230468...</td>\n",
              "    </tr>\n",
              "    <tr>\n",
              "      <th>5</th>\n",
              "      <td>12</td>\n",
              "      <td>3</td>\n",
              "      <td>8458 14 8707 35 8963 48 9219 71 9475 88 9731 8...</td>\n",
              "    </tr>\n",
              "    <tr>\n",
              "      <th>6</th>\n",
              "      <td>12</td>\n",
              "      <td>4</td>\n",
              "      <td>315139 8 315395 15 315651 16 315906 17 316162 ...</td>\n",
              "    </tr>\n",
              "    <tr>\n",
              "      <th>7</th>\n",
              "      <td>13</td>\n",
              "      <td>4</td>\n",
              "      <td>290800 6 291055 13 291311 15 291566 18 291822 ...</td>\n",
              "    </tr>\n",
              "    <tr>\n",
              "      <th>8</th>\n",
              "      <td>16</td>\n",
              "      <td>4</td>\n",
              "      <td>186833 1 187089 3 187344 6 187600 7 187855 10 ...</td>\n",
              "    </tr>\n",
              "    <tr>\n",
              "      <th>9</th>\n",
              "      <td>18</td>\n",
              "      <td>3</td>\n",
              "      <td>152926 1 153180 4 153434 6 153689 8 153943 11 ...</td>\n",
              "    </tr>\n",
              "  </tbody>\n",
              "</table>\n",
              "</div>"
            ],
            "text/plain": [
              "   ImageId  ClassId                                      EncodedPixels\n",
              "0        1        1  29102 12 29346 24 29602 24 29858 24 30114 24 3...\n",
              "1        5        3  18661 28 18863 82 19091 110 19347 110 19603 11...\n",
              "2        6        1  37607 3 37858 8 38108 14 38359 20 38610 25 388...\n",
              "3        7        4  131973 1 132228 4 132483 6 132738 8 132993 11 ...\n",
              "4        8        3  229501 11 229741 33 229981 55 230221 77 230468...\n",
              "5       12        3  8458 14 8707 35 8963 48 9219 71 9475 88 9731 8...\n",
              "6       12        4  315139 8 315395 15 315651 16 315906 17 316162 ...\n",
              "7       13        4  290800 6 291055 13 291311 15 291566 18 291822 ...\n",
              "8       16        4  186833 1 187089 3 187344 6 187600 7 187855 10 ...\n",
              "9       18        3  152926 1 153180 4 153434 6 153689 8 153943 11 ..."
            ]
          },
          "execution_count": 33,
          "metadata": {
            "tags": []
          },
          "output_type": "execute_result"
        }
      ],
      "source": [
        "train_csv = pd.read_csv(base_dir +\"/train.csv\")\n",
        "train_csv.head(10)"
      ]
    },
    {
      "cell_type": "markdown",
      "metadata": {
        "id": "ans2b7wHPnmH"
      },
      "source": [
        "The folloing will build two dataframes.\n",
        "\n",
        "    defect_train_df: only cantains the training images with defects\n",
        "    train_df_all: contains all training images\n",
        "\n",
        "\n",
        "\n",
        "\n",
        "And I also counted the number of classes with defects for each image id in these dataframes to separate images into with defects and without defects for later uses.\n",
        "\n"
      ]
    },
    {
      "cell_type": "code",
      "execution_count": null,
      "metadata": {
        "colab": {
          "base_uri": "https://localhost:8080/",
          "height": 233
        },
        "id": "PMxlscGJ1B6I",
        "outputId": "a8cd326e-ac95-40db-eb6b-ac6cc5e74274"
      },
      "outputs": [
        {
          "data": {
            "text/html": [
              "<div>\n",
              "<style scoped>\n",
              "    .dataframe tbody tr th:only-of-type {\n",
              "        vertical-align: middle;\n",
              "    }\n",
              "\n",
              "    .dataframe tbody tr th {\n",
              "        vertical-align: top;\n",
              "    }\n",
              "\n",
              "    .dataframe thead th {\n",
              "        text-align: right;\n",
              "    }\n",
              "</style>\n",
              "<table border=\"1\" class=\"dataframe\">\n",
              "  <thead>\n",
              "    <tr style=\"text-align: right;\">\n",
              "      <th></th>\n",
              "      <th>defect_cnt</th>\n",
              "    </tr>\n",
              "    <tr>\n",
              "      <th>ImageId</th>\n",
              "      <th></th>\n",
              "    </tr>\n",
              "  </thead>\n",
              "  <tbody>\n",
              "    <tr>\n",
              "      <th>11777</th>\n",
              "      <td>3</td>\n",
              "    </tr>\n",
              "    <tr>\n",
              "      <th>10804</th>\n",
              "      <td>3</td>\n",
              "    </tr>\n",
              "    <tr>\n",
              "      <th>1997</th>\n",
              "      <td>2</td>\n",
              "    </tr>\n",
              "    <tr>\n",
              "      <th>12281</th>\n",
              "      <td>2</td>\n",
              "    </tr>\n",
              "    <tr>\n",
              "      <th>10357</th>\n",
              "      <td>2</td>\n",
              "    </tr>\n",
              "  </tbody>\n",
              "</table>\n",
              "</div>"
            ],
            "text/plain": [
              "         defect_cnt\n",
              "ImageId            \n",
              "11777             3\n",
              "10804             3\n",
              "1997              2\n",
              "12281             2\n",
              "10357             2"
            ]
          },
          "execution_count": 34,
          "metadata": {
            "tags": []
          },
          "output_type": "execute_result"
        }
      ],
      "source": [
        "# Calculate defect category numbers from csv(only include the images that have defects)\n",
        "defect_train_df = train_csv['ImageId'].value_counts().rename_axis('ImageId').to_frame('defect_cnt')\n",
        "\n",
        "# Transfer the index(ImageId) data type into 'int' in order for later sorting\n",
        "defect_train_df.index = defect_train_df.index.astype('int')\n",
        "defect_train_df.sort_values('defect_cnt', ascending=False, inplace=True)\n",
        "defect_train_df.head()"
      ]
    },
    {
      "cell_type": "markdown",
      "metadata": {
        "id": "shxVfczhEc8u"
      },
      "source": [
        "The above are some images with multiple defect categories in one image. For example, for image with ID = 11777, this image has 3 categories of defects in total."
      ]
    },
    {
      "cell_type": "markdown",
      "metadata": {
        "id": "4SJMIZ4JIkDx"
      },
      "source": [
        "The above dataframe, ***defect_train***, from the train.csv file only includes the images with defect. Since we need to consider all images in the training set and we need all image IDs in order to separate images into with and without defects in the first place, we obtain ALL training image IDs from the images names in the ***train_images*** folder."
      ]
    },
    {
      "cell_type": "code",
      "execution_count": null,
      "metadata": {
        "colab": {
          "base_uri": "https://localhost:8080/",
          "height": 233
        },
        "id": "WH4MhN4U9-0u",
        "outputId": "5fe3478e-53a8-4285-e299-b600d82f5c7e"
      },
      "outputs": [
        {
          "data": {
            "text/html": [
              "<div>\n",
              "<style scoped>\n",
              "    .dataframe tbody tr th:only-of-type {\n",
              "        vertical-align: middle;\n",
              "    }\n",
              "\n",
              "    .dataframe tbody tr th {\n",
              "        vertical-align: top;\n",
              "    }\n",
              "\n",
              "    .dataframe thead th {\n",
              "        text-align: right;\n",
              "    }\n",
              "</style>\n",
              "<table border=\"1\" class=\"dataframe\">\n",
              "  <thead>\n",
              "    <tr style=\"text-align: right;\">\n",
              "      <th></th>\n",
              "      <th>defect_cnt</th>\n",
              "    </tr>\n",
              "    <tr>\n",
              "      <th>ImageId</th>\n",
              "      <th></th>\n",
              "    </tr>\n",
              "  </thead>\n",
              "  <tbody>\n",
              "    <tr>\n",
              "      <th>9939</th>\n",
              "      <td>0</td>\n",
              "    </tr>\n",
              "    <tr>\n",
              "      <th>9773</th>\n",
              "      <td>0</td>\n",
              "    </tr>\n",
              "    <tr>\n",
              "      <th>4444</th>\n",
              "      <td>0</td>\n",
              "    </tr>\n",
              "    <tr>\n",
              "      <th>10871</th>\n",
              "      <td>0</td>\n",
              "    </tr>\n",
              "    <tr>\n",
              "      <th>11654</th>\n",
              "      <td>1</td>\n",
              "    </tr>\n",
              "  </tbody>\n",
              "</table>\n",
              "</div>"
            ],
            "text/plain": [
              "         defect_cnt\n",
              "ImageId            \n",
              "9939              0\n",
              "9773              0\n",
              "4444              0\n",
              "10871             0\n",
              "11654             1"
            ]
          },
          "execution_count": 35,
          "metadata": {
            "tags": []
          },
          "output_type": "execute_result"
        }
      ],
      "source": [
        "# Obtain ALL image IDs from the images folder and take .JPD away from them\n",
        "# os.listdir(path) will return a list containing all file names in the given path, so we can get a list with all image names\n",
        "train_df_all = pd.DataFrame(os.listdir(train_dir), columns = ['File name'])\n",
        "train_df_all['ImageId'] = train_df_all['File name'].apply(lambda x: x.split('.')[0])\n",
        "train_df_all['ImageId'] = train_df_all['ImageId'].astype('int')\n",
        "train_df_all.set_index('ImageId', inplace=True)\n",
        "\n",
        "# Build the dataframe with defect_cnt column which includes ALL images\n",
        "train_df_all['defect_cnt'] = defect_train_df['defect_cnt']\n",
        "\n",
        "# If the image isn't is defect_train_df, that means that it has no defects. So we fill them with zero\n",
        "train_df_all['defect_cnt'].fillna(0, inplace = True)\n",
        "train_df_all['defect_cnt'] = train_df_all['defect_cnt'].astype('int')\n",
        "train_df_all.drop('File name', axis=1, inplace=True)\n",
        "train_df_all.head()"
      ]
    },
    {
      "cell_type": "code",
      "execution_count": null,
      "metadata": {
        "colab": {
          "base_uri": "https://localhost:8080/",
          "height": 52
        },
        "id": "Nn9UqVog8Gtk",
        "outputId": "4152a577-df54-4a6d-d662-81272e0918f1"
      },
      "outputs": [
        {
          "name": "stdout",
          "output_type": "stream",
          "text": [
            "(8798, 1)\n",
            "(4682, 1)\n"
          ]
        }
      ],
      "source": [
        "print(train_df_all.shape)\n",
        "print(defect_train_df.shape)"
      ]
    },
    {
      "cell_type": "markdown",
      "metadata": {
        "id": "KMfBmTImcyBk"
      },
      "source": [
        "There are 8798 images in the training data set in total, and 4682 of them are with defects. Therefore, we know that 4116 images are with no defects, which is around 46.8%. So the data distributes quite equal among w/o defect images.\n",
        "\n",
        "---\n",
        "\n"
      ]
    },
    {
      "cell_type": "markdown",
      "metadata": {
        "id": "E1tu_n0qRUga"
      },
      "source": [
        "For later use, I moved ImageId from indexes to a column and also sort by ImageId for cleaner information."
      ]
    },
    {
      "cell_type": "code",
      "execution_count": null,
      "metadata": {
        "id": "S3F7kOZQ8AKE"
      },
      "outputs": [],
      "source": [
        "# move ImageId to column and sort by ImageId and reset index\n",
        "def reformat(df):\n",
        "  df = df.reset_index(level=0).sort_values(by = ['ImageId']).reset_index(drop = True)\n",
        "  return df"
      ]
    },
    {
      "cell_type": "code",
      "execution_count": null,
      "metadata": {
        "id": "03GW2DKy85ps"
      },
      "outputs": [],
      "source": [
        "# reformat the dataframes\n",
        "train_df_all = reformat(train_df_all)\n",
        "defect_train_df = reformat(defect_train_df)"
      ]
    },
    {
      "cell_type": "code",
      "execution_count": null,
      "metadata": {
        "colab": {
          "base_uri": "https://localhost:8080/",
          "height": 202
        },
        "id": "gCSs0u6OZ8Fw",
        "outputId": "43c9c7c0-640b-49ed-9e9c-66403ba2f545"
      },
      "outputs": [
        {
          "data": {
            "text/html": [
              "<div>\n",
              "<style scoped>\n",
              "    .dataframe tbody tr th:only-of-type {\n",
              "        vertical-align: middle;\n",
              "    }\n",
              "\n",
              "    .dataframe tbody tr th {\n",
              "        vertical-align: top;\n",
              "    }\n",
              "\n",
              "    .dataframe thead th {\n",
              "        text-align: right;\n",
              "    }\n",
              "</style>\n",
              "<table border=\"1\" class=\"dataframe\">\n",
              "  <thead>\n",
              "    <tr style=\"text-align: right;\">\n",
              "      <th></th>\n",
              "      <th>ImageId</th>\n",
              "      <th>defect_cnt</th>\n",
              "    </tr>\n",
              "  </thead>\n",
              "  <tbody>\n",
              "    <tr>\n",
              "      <th>0</th>\n",
              "      <td>1</td>\n",
              "      <td>1</td>\n",
              "    </tr>\n",
              "    <tr>\n",
              "      <th>1</th>\n",
              "      <td>2</td>\n",
              "      <td>0</td>\n",
              "    </tr>\n",
              "    <tr>\n",
              "      <th>2</th>\n",
              "      <td>3</td>\n",
              "      <td>0</td>\n",
              "    </tr>\n",
              "    <tr>\n",
              "      <th>3</th>\n",
              "      <td>5</td>\n",
              "      <td>1</td>\n",
              "    </tr>\n",
              "    <tr>\n",
              "      <th>4</th>\n",
              "      <td>6</td>\n",
              "      <td>1</td>\n",
              "    </tr>\n",
              "  </tbody>\n",
              "</table>\n",
              "</div>"
            ],
            "text/plain": [
              "   ImageId  defect_cnt\n",
              "0        1           1\n",
              "1        2           0\n",
              "2        3           0\n",
              "3        5           1\n",
              "4        6           1"
            ]
          },
          "execution_count": 39,
          "metadata": {
            "tags": []
          },
          "output_type": "execute_result"
        }
      ],
      "source": [
        "train_df_all.head()"
      ]
    },
    {
      "cell_type": "code",
      "execution_count": null,
      "metadata": {
        "colab": {
          "base_uri": "https://localhost:8080/",
          "height": 202
        },
        "id": "smR22GCybAdj",
        "outputId": "4b191882-7971-4bdb-a863-3de045855dd1"
      },
      "outputs": [
        {
          "data": {
            "text/html": [
              "<div>\n",
              "<style scoped>\n",
              "    .dataframe tbody tr th:only-of-type {\n",
              "        vertical-align: middle;\n",
              "    }\n",
              "\n",
              "    .dataframe tbody tr th {\n",
              "        vertical-align: top;\n",
              "    }\n",
              "\n",
              "    .dataframe thead th {\n",
              "        text-align: right;\n",
              "    }\n",
              "</style>\n",
              "<table border=\"1\" class=\"dataframe\">\n",
              "  <thead>\n",
              "    <tr style=\"text-align: right;\">\n",
              "      <th></th>\n",
              "      <th>ImageId</th>\n",
              "      <th>defect_cnt</th>\n",
              "    </tr>\n",
              "  </thead>\n",
              "  <tbody>\n",
              "    <tr>\n",
              "      <th>0</th>\n",
              "      <td>1</td>\n",
              "      <td>1</td>\n",
              "    </tr>\n",
              "    <tr>\n",
              "      <th>1</th>\n",
              "      <td>5</td>\n",
              "      <td>1</td>\n",
              "    </tr>\n",
              "    <tr>\n",
              "      <th>2</th>\n",
              "      <td>6</td>\n",
              "      <td>1</td>\n",
              "    </tr>\n",
              "    <tr>\n",
              "      <th>3</th>\n",
              "      <td>7</td>\n",
              "      <td>1</td>\n",
              "    </tr>\n",
              "    <tr>\n",
              "      <th>4</th>\n",
              "      <td>8</td>\n",
              "      <td>1</td>\n",
              "    </tr>\n",
              "  </tbody>\n",
              "</table>\n",
              "</div>"
            ],
            "text/plain": [
              "   ImageId  defect_cnt\n",
              "0        1           1\n",
              "1        5           1\n",
              "2        6           1\n",
              "3        7           1\n",
              "4        8           1"
            ]
          },
          "execution_count": 40,
          "metadata": {
            "tags": []
          },
          "output_type": "execute_result"
        }
      ],
      "source": [
        "defect_train_df.head()"
      ]
    },
    {
      "cell_type": "markdown",
      "metadata": {
        "id": "rFXczl7ULxb9"
      },
      "source": [
        "And since we want to predict a yes/no question in the first place, I add a new column ***No_defect***.\n",
        "\n",
        "    No_defect: 1 for images without defects, and 0 for those with defects"
      ]
    },
    {
      "cell_type": "code",
      "execution_count": null,
      "metadata": {
        "colab": {
          "base_uri": "https://localhost:8080/",
          "height": 202
        },
        "id": "6nEI-CZg_HvH",
        "outputId": "04a67528-d859-486d-ef4c-4eb20d2275b9"
      },
      "outputs": [
        {
          "data": {
            "text/html": [
              "<div>\n",
              "<style scoped>\n",
              "    .dataframe tbody tr th:only-of-type {\n",
              "        vertical-align: middle;\n",
              "    }\n",
              "\n",
              "    .dataframe tbody tr th {\n",
              "        vertical-align: top;\n",
              "    }\n",
              "\n",
              "    .dataframe thead th {\n",
              "        text-align: right;\n",
              "    }\n",
              "</style>\n",
              "<table border=\"1\" class=\"dataframe\">\n",
              "  <thead>\n",
              "    <tr style=\"text-align: right;\">\n",
              "      <th></th>\n",
              "      <th>ImageId</th>\n",
              "      <th>defect_cnt</th>\n",
              "      <th>No_defect</th>\n",
              "      <th>File name</th>\n",
              "    </tr>\n",
              "  </thead>\n",
              "  <tbody>\n",
              "    <tr>\n",
              "      <th>0</th>\n",
              "      <td>1</td>\n",
              "      <td>1</td>\n",
              "      <td>0</td>\n",
              "      <td>1.JPG</td>\n",
              "    </tr>\n",
              "    <tr>\n",
              "      <th>1</th>\n",
              "      <td>2</td>\n",
              "      <td>0</td>\n",
              "      <td>1</td>\n",
              "      <td>2.JPG</td>\n",
              "    </tr>\n",
              "    <tr>\n",
              "      <th>2</th>\n",
              "      <td>3</td>\n",
              "      <td>0</td>\n",
              "      <td>1</td>\n",
              "      <td>3.JPG</td>\n",
              "    </tr>\n",
              "    <tr>\n",
              "      <th>3</th>\n",
              "      <td>5</td>\n",
              "      <td>1</td>\n",
              "      <td>0</td>\n",
              "      <td>5.JPG</td>\n",
              "    </tr>\n",
              "    <tr>\n",
              "      <th>4</th>\n",
              "      <td>6</td>\n",
              "      <td>1</td>\n",
              "      <td>0</td>\n",
              "      <td>6.JPG</td>\n",
              "    </tr>\n",
              "  </tbody>\n",
              "</table>\n",
              "</div>"
            ],
            "text/plain": [
              "  ImageId  defect_cnt No_defect File name\n",
              "0       1           1         0     1.JPG\n",
              "1       2           0         1     2.JPG\n",
              "2       3           0         1     3.JPG\n",
              "3       5           1         0     5.JPG\n",
              "4       6           1         0     6.JPG"
            ]
          },
          "execution_count": 41,
          "metadata": {
            "tags": []
          },
          "output_type": "execute_result"
        }
      ],
      "source": [
        "# Create defect_yn_df and add 'No_defect' column\n",
        "defect_yn_df = train_df_all.copy()\n",
        "defect_yn_df['No_defect'] = str(0)\n",
        "no_defect_index = defect_yn_df[ defect_yn_df.loc[:,'defect_cnt'] == 0].index\n",
        "defect_yn_df.iloc[no_defect_index,2]= str(1)\n",
        "\n",
        "# Create 'File name' column, which is usable for flow_from_dataframe() function when building DataGenerator class later\n",
        "defect_yn_df['ImageId'] = defect_yn_df['ImageId'].astype('str')\n",
        "defect_yn_df['File name'] = defect_yn_df['ImageId'] + '.JPG'\n",
        "defect_yn_df.head()"
      ]
    },
    {
      "cell_type": "markdown",
      "metadata": {
        "id": "rYs2nav1PqWH"
      },
      "source": [
        "#### Data exploring"
      ]
    },
    {
      "cell_type": "code",
      "execution_count": null,
      "metadata": {
        "colab": {
          "base_uri": "https://localhost:8080/",
          "height": 399
        },
        "id": "mqBzhyvRPtXh",
        "outputId": "41870bfa-76e3-4a48-e9f0-415eb0d86def"
      },
      "outputs": [
        {
          "name": "stdout",
          "output_type": "stream",
          "text": [
            "The count numbers of each class\n",
            "1     614\n",
            "2     189\n",
            "3    3620\n",
            "4     562\n",
            "Name: ClassId, dtype: int64\n"
          ]
        },
        {
          "data": {
            "image/png": "[encoded data removed]",
            "text/plain": [
              "<Figure size 432x288 with 1 Axes>"
            ]
          },
          "metadata": {
            "needs_background": "light",
            "tags": []
          },
          "output_type": "display_data"
        }
      ],
      "source": [
        "# To know the defect counts in different categories\n",
        "series = train_csv['ClassId'].value_counts().sort_index()\n",
        "print(\"The count numbers of each class\")\n",
        "print(series)\n",
        "classId = series.index.astype('str')\n",
        "counts = series.values\n",
        "plt.bar(classId, counts, width=0.8)\n",
        "plt.title(\"The counts of images with defects\")\n",
        "plt.xlabel(\"ClassId\")\n",
        "plt.ylabel(\"Counts\")\n",
        "plt.show()\n",
        "plt.close()"
      ]
    },
    {
      "cell_type": "markdown",
      "metadata": {
        "id": "e_b-jjh_TL5m"
      },
      "source": [
        "From the figure, we can found that it's really unbalanced between each categories.\n",
        "\n",
        "---\n",
        "How about the counts of defect categories in each image?\n"
      ]
    },
    {
      "cell_type": "code",
      "execution_count": null,
      "metadata": {
        "colab": {
          "base_uri": "https://localhost:8080/",
          "height": 365
        },
        "id": "oMg_jQNzTnL0",
        "outputId": "df2390d2-53e8-4fa8-c2c6-dc30acc5b654"
      },
      "outputs": [
        {
          "name": "stdout",
          "output_type": "stream",
          "text": [
            "1    4381\n",
            "2     299\n",
            "3       2\n",
            "Name: defect_cnt, dtype: int64\n"
          ]
        },
        {
          "data": {
            "image/png": "[encoded data removed]",
            "text/plain": [
              "<Figure size 432x288 with 1 Axes>"
            ]
          },
          "metadata": {
            "needs_background": "light",
            "tags": []
          },
          "output_type": "display_data"
        }
      ],
      "source": [
        "series = defect_train_df['defect_cnt'].value_counts().sort_index()\n",
        "print(series)\n",
        "defect_cnt = series.index.astype('str')\n",
        "image_num = series.values\n",
        "plt.bar(defect_cnt, image_num)\n",
        "plt.title(\"The number of defect categories in one image\")\n",
        "plt.xlabel(\"Defect categories count\")\n",
        "plt.ylabel(\"Image counts\")\n",
        "plt.show()\n",
        "plt.close()"
      ]
    },
    {
      "cell_type": "markdown",
      "metadata": {
        "id": "0x1Qaw_eUhIb"
      },
      "source": [
        "It shows that there are only one category of defects in most of the images. Some of them have two kinds of defects, and only 2 of them have three categories of defects.\n",
        "\n",
        "\n",
        "---\n",
        "We now can show some images.\n"
      ]
    },
    {
      "cell_type": "code",
      "execution_count": null,
      "metadata": {
        "colab": {
          "base_uri": "https://localhost:8080/",
          "height": 228
        },
        "id": "mScLoI56U6lo",
        "outputId": "dab5928c-620a-4780-af4b-559e8abaa944"
      },
      "outputs": [
        {
          "name": "stdout",
          "output_type": "stream",
          "text": [
            "Image name :  2.JPG\n"
          ]
        },
        {
          "data": {
            "image/png": "[encoded data removed]",
            "text/plain": [
              "<Figure size 432x288 with 1 Axes>"
            ]
          },
          "metadata": {
            "needs_background": "light",
            "tags": []
          },
          "output_type": "display_data"
        },
        {
          "name": "stdout",
          "output_type": "stream",
          "text": [
            "Image name :  3.JPG\n"
          ]
        },
        {
          "data": {
            "image/png": "[encoded data removed]",
            "text/plain": [
              "<Figure size 432x288 with 1 Axes>"
            ]
          },
          "metadata": {
            "needs_background": "light",
            "tags": []
          },
          "output_type": "display_data"
        }
      ],
      "source": [
        "no_defect = defect_yn_df['File name'][defect_yn_df['defect_cnt']==0].values[:2]\n",
        "for name in no_defect:\n",
        "  image = cv2.imread(train_dir + '/' + name)\n",
        "  print(\"Image name : \", name)\n",
        "  plt.imshow(image)\n",
        "  plt.show()\n",
        "  plt.close()"
      ]
    },
    {
      "cell_type": "code",
      "execution_count": null,
      "metadata": {
        "colab": {
          "base_uri": "https://localhost:8080/",
          "height": 245
        },
        "id": "WyJxAVqCXDbk",
        "outputId": "fa3cb86e-7fa8-4c76-ba6f-0d061f6de9ee"
      },
      "outputs": [
        {
          "name": "stdout",
          "output_type": "stream",
          "text": [
            "Defect ClassId = 1\n",
            "Image name :  1\n"
          ]
        },
        {
          "data": {
            "image/png": "[encoded data removed]",
            "text/plain": [
              "<Figure size 432x288 with 1 Axes>"
            ]
          },
          "metadata": {
            "needs_background": "light",
            "tags": []
          },
          "output_type": "display_data"
        },
        {
          "name": "stdout",
          "output_type": "stream",
          "text": [
            "Image name :  6\n"
          ]
        },
        {
          "data": {
            "image/png": "[encoded data removed]",
            "text/plain": [
              "<Figure size 432x288 with 1 Axes>"
            ]
          },
          "metadata": {
            "needs_background": "light",
            "tags": []
          },
          "output_type": "display_data"
        }
      ],
      "source": [
        "defect_1 = train_csv['ImageId'][train_csv['ClassId']==1].values[:2].astype(str)\n",
        "print(\"Defect ClassId = 1\")\n",
        "for name in defect_1:\n",
        "  image = cv2.imread(train_dir + '/' + name + '.JPG')\n",
        "  print(\"Image ID: \", name)\n",
        "  plt.imshow(image)\n",
        "  plt.show()\n",
        "  plt.close()"
      ]
    },
    {
      "cell_type": "code",
      "execution_count": null,
      "metadata": {
        "colab": {
          "base_uri": "https://localhost:8080/",
          "height": 245
        },
        "id": "aUwIOtMlYKiZ",
        "outputId": "1f51dcdf-1650-4270-f5b4-b8daa21605ec"
      },
      "outputs": [
        {
          "name": "stdout",
          "output_type": "stream",
          "text": [
            "Defect ClassId = 2\n",
            "Image name :  35\n"
          ]
        },
        {
          "data": {
            "image/png": "[encoded data removed]",
            "text/plain": [
              "<Figure size 432x288 with 1 Axes>"
            ]
          },
          "metadata": {
            "needs_background": "light",
            "tags": []
          },
          "output_type": "display_data"
        },
        {
          "name": "stdout",
          "output_type": "stream",
          "text": [
            "Image name :  38\n"
          ]
        },
        {
          "data": {
            "image/png": "[encoded data removed]",
            "text/plain": [
              "<Figure size 432x288 with 1 Axes>"
            ]
          },
          "metadata": {
            "needs_background": "light",
            "tags": []
          },
          "output_type": "display_data"
        }
      ],
      "source": [
        "defect_2 = train_csv['ImageId'][train_csv['ClassId']==2].values[:2].astype('str')\n",
        "print(\"Defect ClassId = 2\")\n",
        "for name in defect_2:\n",
        "  image = cv2.imread(train_dir + '/' + name +'.JPG')\n",
        "  print(\"Image name : \", name)\n",
        "  plt.imshow(image)\n",
        "  plt.show()\n",
        "  plt.close()"
      ]
    },
    {
      "cell_type": "code",
      "execution_count": null,
      "metadata": {
        "colab": {
          "base_uri": "https://localhost:8080/",
          "height": 245
        },
        "id": "jxmzXuf6YN4U",
        "outputId": "567ed4f9-9a34-4f96-c183-1b5ec9febf05"
      },
      "outputs": [
        {
          "name": "stdout",
          "output_type": "stream",
          "text": [
            "Defect ClassId = 3\n",
            "Image name :  5\n"
          ]
        },
        {
          "data": {
            "image/png": "[encoded data removed]",
            "text/plain": [
              "<Figure size 432x288 with 1 Axes>"
            ]
          },
          "metadata": {
            "needs_background": "light",
            "tags": []
          },
          "output_type": "display_data"
        },
        {
          "name": "stdout",
          "output_type": "stream",
          "text": [
            "Image name :  8\n"
          ]
        },
        {
          "data": {
            "image/png": "[encoded data removed]",
            "text/plain": [
              "<Figure size 432x288 with 1 Axes>"
            ]
          },
          "metadata": {
            "needs_background": "light",
            "tags": []
          },
          "output_type": "display_data"
        }
      ],
      "source": [
        "defect_3 = train_csv['ImageId'][train_csv['ClassId']==3].values[:2].astype('str')\n",
        "print(\"Defect ClassId = 3\")\n",
        "for name in defect_3:\n",
        "  image = cv2.imread(train_dir + '/' + name + '.JPG')\n",
        "  print(\"Image name : \", name)\n",
        "  plt.imshow(image)\n",
        "  plt.show()\n",
        "  plt.close()"
      ]
    },
    {
      "cell_type": "code",
      "execution_count": null,
      "metadata": {
        "colab": {
          "base_uri": "https://localhost:8080/",
          "height": 245
        },
        "id": "d619MYc6YQ_2",
        "outputId": "e92de758-10d7-4751-8fa2-b47e03d1817a"
      },
      "outputs": [
        {
          "name": "stdout",
          "output_type": "stream",
          "text": [
            "Defect ClassId = 4\n",
            "Image name :  7\n"
          ]
        },
        {
          "data": {
            "image/png": "[encoded data removed]",
            "text/plain": [
              "<Figure size 432x288 with 1 Axes>"
            ]
          },
          "metadata": {
            "needs_background": "light",
            "tags": []
          },
          "output_type": "display_data"
        },
        {
          "name": "stdout",
          "output_type": "stream",
          "text": [
            "Image name :  12\n"
          ]
        },
        {
          "data": {
            "image/png": "[encoded data removed]",
            "text/plain": [
              "<Figure size 432x288 with 1 Axes>"
            ]
          },
          "metadata": {
            "needs_background": "light",
            "tags": []
          },
          "output_type": "display_data"
        }
      ],
      "source": [
        "defect_4 = train_csv['ImageId'][train_csv['ClassId']==4].values[:2].astype('str')\n",
        "print(\"Defect ClassId = 4\")\n",
        "for name in defect_4:\n",
        "  image = cv2.imread(train_dir + '/' + name + '.JPG')\n",
        "  print(\"Image name : \", name)\n",
        "  plt.imshow(image)\n",
        "  plt.show()\n",
        "  plt.close()"
      ]
    },
    {
      "cell_type": "markdown",
      "metadata": {
        "id": "2TV2IrOBCPlk"
      },
      "source": [
        "#### Build testing-related dataframes"
      ]
    },
    {
      "cell_type": "code",
      "execution_count": null,
      "metadata": {
        "colab": {
          "base_uri": "https://localhost:8080/",
          "height": 202
        },
        "id": "J_ABxfmECUhc",
        "outputId": "1dd2be5f-4eb6-4f58-c7ee-6b3816cd72bc"
      },
      "outputs": [
        {
          "data": {
            "text/html": [
              "<div>\n",
              "<style scoped>\n",
              "    .dataframe tbody tr th:only-of-type {\n",
              "        vertical-align: middle;\n",
              "    }\n",
              "\n",
              "    .dataframe tbody tr th {\n",
              "        vertical-align: top;\n",
              "    }\n",
              "\n",
              "    .dataframe thead th {\n",
              "        text-align: right;\n",
              "    }\n",
              "</style>\n",
              "<table border=\"1\" class=\"dataframe\">\n",
              "  <thead>\n",
              "    <tr style=\"text-align: right;\">\n",
              "      <th></th>\n",
              "      <th>File name</th>\n",
              "      <th>ImageId</th>\n",
              "    </tr>\n",
              "  </thead>\n",
              "  <tbody>\n",
              "    <tr>\n",
              "      <th>0</th>\n",
              "      <td>4.JPG</td>\n",
              "      <td>4</td>\n",
              "    </tr>\n",
              "    <tr>\n",
              "      <th>1</th>\n",
              "      <td>10.JPG</td>\n",
              "      <td>10</td>\n",
              "    </tr>\n",
              "    <tr>\n",
              "      <th>2</th>\n",
              "      <td>11.JPG</td>\n",
              "      <td>11</td>\n",
              "    </tr>\n",
              "    <tr>\n",
              "      <th>3</th>\n",
              "      <td>15.JPG</td>\n",
              "      <td>15</td>\n",
              "    </tr>\n",
              "    <tr>\n",
              "      <th>4</th>\n",
              "      <td>17.JPG</td>\n",
              "      <td>17</td>\n",
              "    </tr>\n",
              "  </tbody>\n",
              "</table>\n",
              "</div>"
            ],
            "text/plain": [
              "  File name ImageId\n",
              "0     4.JPG       4\n",
              "1    10.JPG      10\n",
              "2    11.JPG      11\n",
              "3    15.JPG      15\n",
              "4    17.JPG      17"
            ]
          },
          "execution_count": 14,
          "metadata": {
            "tags": []
          },
          "output_type": "execute_result"
        }
      ],
      "source": [
        "# Build test_df and create ImageId column with all test_images by os.listdir()\n",
        "test_df = pd.DataFrame(os.listdir(test_dir), columns = ['File name'])\n",
        "test_df['ImageId'] = test_df['File name'].apply(lambda x: x.split('.')[0])\n",
        "\n",
        "# Transform ImageId into 'int' in order to sort, and transform it back to 'str' according to later functions requirements\n",
        "test_df['ImageId'] = test_df['ImageId'].astype('int')\n",
        "test_df = test_df.sort_values(by = ['ImageId']).reset_index(drop = True)\n",
        "test_df['ImageId'] = test_df['ImageId'].astype('str')\n",
        "\n",
        "test_df.head()"
      ]
    },
    {
      "cell_type": "markdown",
      "metadata": {
        "id": "5NAvinxlrJ_C"
      },
      "source": [
        "### Functions needed\n",
        "I built some functions first in this sector for more convenient usage.\n",
        "There are\n",
        "    build_matrices"
      ]
    },
    {
      "cell_type": "code",
      "execution_count": null,
      "metadata": {
        "id": "7cIz02eKrQVx"
      },
      "outputs": [],
      "source": [
        "def build_matrices(image_category, rles, input_shape):\n",
        "  \"\"\"\n",
        "  This function can build matrices from rles for each image, which are the matrices with 0 and 1 to indicate the defects on the image.\n",
        "  There are 4 categories in total, so the last shape of returned matrix is 4.\n",
        "  And the first and second dimension depend on the 'input_shape'.\n",
        "\n",
        "  image_category : a list including the category with defect for this image, e.g.: [1,4]\n",
        "  rles : a list containig the string of run-length-encodings for each category, e.g.:['1 2 5 10', '13 5 20 4']\n",
        "  input_shape : the shape same as the image size, in this case this is 256*1600\n",
        "  return : an numpy array with dimension = (input_shape[0], input_shape[1], 4)\n",
        "  \"\"\"\n",
        "  matrices = np.zeros((input_shape[0], input_shape[1], 4))\n",
        "  for i, cate in enumerate(image_category):\n",
        "    rle = rles[i]\n",
        "    matrices[:,:,cate-1] = rle_to_matrix(rle, input_shape)\n",
        "  return matrices\n",
        "\n",
        "def rle_to_matrix(rle, input_shape):\n",
        "  \"\"\"\n",
        "  This function can transform one rle to one matrix and the dimensions depend on the 'input_shape'.\n",
        "\n",
        "  rle : one run-length-encoding string\n",
        "  input_shape : the tuple (a,b), show that the shape which is the same as the image size. In this case it's 256*1600.\n",
        "  return : an numpy array with shape = (input_shape[0], input_shape[1])\n",
        "  \"\"\"\n",
        "  rows, cols = input_shape[0], input_shape[1] # 256, 1600\n",
        "\n",
        "  # To simplify the problem, we can store the array with shape = (256*100) at first,\n",
        "  # and transform it to array with shape = (256, 1600) in the end\n",
        "  matrix = np.zeros(rows * cols).astype(np.uint8)\n",
        "  array = np.asarray([int(x) for x in rle.split()])\n",
        "  starts = array[0::2]   # the start position indexes\n",
        "  lengths = array[1::2]  # the correspoding lengths for the start positions\n",
        "  for index, start in enumerate(starts):\n",
        "     matrix[int(start)-1:int(start+lengths[index])-1] = 1\n",
        "  return matrix.reshape((cols, rows)).T\n",
        "\n",
        "def build_rles(matrices):\n",
        "  \"\"\"\n",
        "  This function is to transform the 4 matrices for each image into rles.\n",
        "\n",
        "  matrices : an numpy array with shape = (a, b, 4), where (a,b) is arbitrarily chosen. In this case it's (256, 1600).\n",
        "  return : rles, which is a list with 4 strings inside.\n",
        "  \"\"\"\n",
        "  width, height, depth = matrices.shape\n",
        "  rles = [matrices_to_rle(matrices[:, :, i]) for i in range(depth)]\n",
        "  return rles\n",
        "\n",
        "def matrices_to_rle(img):\n",
        "    '''\n",
        "    This function is to transfer one numpy array into one rle.\n",
        "\n",
        "    img: numpy array, 1 - defect, 0 - no defect\n",
        "    return : rle, run length encoding in string format\n",
        "    '''\n",
        "    pixels= img.T.flatten()\n",
        "    pixels = np.concatenate([[0], pixels, [0]])\n",
        "    runs = np.where(pixels[1:] != pixels[:-1])[0] + 1\n",
        "    runs[1::2] -= runs[::2]\n",
        "    return ' '.join(str(x) for x in runs)"
      ]
    },
    {
      "cell_type": "code",
      "execution_count": null,
      "metadata": {
        "id": "_fZ1CQK8uZwd"
      },
      "outputs": [],
      "source": [
        "def plot_loss(history):\n",
        "  loss = history.history['loss']\n",
        "  epochs = range(1, len(loss) + 1)\n",
        "  val_loss = history.history['val_loss']\n",
        "  plt.plot(epochs, loss, 'bo', label='Training loss')\n",
        "  plt.plot(epochs, val_loss, 'b', label='Validation loss')\n",
        "  plt.title('Training and validation loss')\n",
        "  plt.xlabel('Epochs')\n",
        "  plt.ylabel('Loss')\n",
        "  plt.legend()\n",
        "  plt.show()\n",
        "  plt.close()"
      ]
    },
    {
      "cell_type": "code",
      "execution_count": null,
      "metadata": {
        "id": "boeVnxURurem"
      },
      "outputs": [],
      "source": [
        "def plot_acc(history):\n",
        "  acc = history.history['accuracy']\n",
        "  epochs = range(1, len(acc) + 1)\n",
        "  val_acc = history.history['val_accuracy']\n",
        "  plt.plot(epochs, acc, 'bo', label='Training acc')\n",
        "  plt.plot(epochs, val_acc, 'b', label='Validation acc')\n",
        "  plt.title('Training and validation accuracy')\n",
        "  plt.xlabel('Epochs')\n",
        "  plt.ylabel('Acuracy')\n",
        "  plt.legend()\n",
        "  plt.show()\n",
        "  plt.close()"
      ]
    },
    {
      "cell_type": "code",
      "execution_count": null,
      "metadata": {
        "id": "CyvUdQLgfBIm"
      },
      "outputs": [],
      "source": [
        "def plot_dice_coef(history):\n",
        "  dice_coef = history.history['dice_coef']\n",
        "  epochs = range(1, len(dice_coef) + 1)\n",
        "  val_dice_coef = history.history['val_dice_coef']\n",
        "  plt.plot(epochs, dice_coef, 'bo', label='Training dice_coef')\n",
        "  plt.plot(epochs, val_dice_coef, 'b', label='Validation dice_coef')\n",
        "  plt.title('Training and validation dice_coef')\n",
        "  plt.xlabel('Epochs')\n",
        "  plt.ylabel('dice_coef')\n",
        "  plt.legend()\n",
        "  plt.show()\n",
        "  plt.close()"
      ]
    },
    {
      "cell_type": "markdown",
      "metadata": {
        "id": "5TSjInkQqqN4"
      },
      "source": [
        "### Model Building"
      ]
    },
    {
      "cell_type": "markdown",
      "metadata": {
        "id": "yYL-QM5RZRGA"
      },
      "source": [
        "#### First model - separate w/o defect images"
      ]
    },
    {
      "cell_type": "markdown",
      "metadata": {
        "id": "aVd5F47yTUeP"
      },
      "source": [
        "##### Build data generator\n",
        "We use ImageDataGenerator to create data in batch to lower the RAM used during loading and training process. Besides, for better prediction, we also set zoom and rotation shift effects when generating training images data."
      ]
    },
    {
      "cell_type": "code",
      "execution_count": null,
      "metadata": {
        "id": "uoeQlIhJZRGK"
      },
      "outputs": [],
      "source": [
        "BATCH_SIZE = 32\n",
        "def create_datagen():\n",
        "    return ImageDataGenerator(\n",
        "        zoom_range=0.1,  # set range for random zoom\n",
        "        # set mode for filling points outside the input boundaries\n",
        "        fill_mode='constant',\n",
        "        cval=0.,\n",
        "        rotation_range=10,\n",
        "        height_shift_range=0.1,\n",
        "        width_shift_range=0.1,\n",
        "        horizontal_flip=True,\n",
        "        vertical_flip=True,\n",
        "        rescale=1/255.,\n",
        "        validation_split=0.15\n",
        "    )\n",
        "def create_train_gen(datagen, subset, target_shape):\n",
        "    \"\"\"\n",
        "    flow_from_dataframe can help us read the images and corresponds them with their data in the dataframe stored.\n",
        "    Hence, we use defect_yn_df, which contains all training images with their defect information, as a base.\n",
        "    x_col is the file name, and y_col is No_defect column and is the label that we want to predict.\n",
        "    \"\"\"\n",
        "    return datagen.flow_from_dataframe(\n",
        "        defect_yn_df,\n",
        "        directory= train_dir,\n",
        "        x_col='File name',\n",
        "        y_col='No_defect',\n",
        "        class_mode='binary',\n",
        "        target_size=(target_shape[0], target_shape[1]),\n",
        "        batch_size=BATCH_SIZE,\n",
        "        subset=subset,\n",
        "        seed = 2020,\n",
        "    )\n",
        "def create_test_gen(target_shape):\n",
        "    \"\"\"\n",
        "    Similar to those in create_train_gen(), but for test_images there is no label, so we don't need to set y_col.\n",
        "    And to preserve the output order to be the same as its ImageId so that we can produce the final predictions, we set shuffle = False.\n",
        "    \"\"\"\n",
        "    return ImageDataGenerator(rescale=1/255.).flow_from_dataframe(\n",
        "        test_df,\n",
        "        directory=test_dir,\n",
        "        x_col='File name',\n",
        "        class_mode=None,\n",
        "        target_size=(target_shape[0], target_shape[1]),\n",
        "        batch_size=BATCH_SIZE,\n",
        "        shuffle=False,\n",
        "    )"
      ]
    },
    {
      "cell_type": "markdown",
      "metadata": {
        "id": "7vlpQLHl0P6G"
      },
      "source": [
        "To reduce the training time, I downsized the target_shape from original (256,1600) to (128,400). And after training for both sizes, I thought there wasn't significant differences between them. Therefore, downsizing them for a more efficient training process is a better choice."
      ]
    },
    {
      "cell_type": "code",
      "execution_count": null,
      "metadata": {
        "colab": {
          "base_uri": "https://localhost:8080/",
          "height": 69
        },
        "id": "v9RAt4QDZRGd",
        "outputId": "a8cd3596-0a97-4074-ddc4-6399ed288ae2"
      },
      "outputs": [
        {
          "name": "stdout",
          "output_type": "stream",
          "text": [
            "Found 7479 validated image filenames belonging to 2 classes.\n",
            "Found 1319 validated image filenames belonging to 2 classes.\n",
            "Found 3770 validated image filenames.\n"
          ]
        }
      ],
      "source": [
        "# Create data generators for sub_training, validation, and testing images\n",
        "data_generator = create_datagen()\n",
        "train_gen = create_train_gen(data_generator, 'training', target_shape = (128,400))\n",
        "val_gen = create_train_gen(data_generator, 'validation', target_shape=(128,400))\n",
        "test_gen = create_test_gen(target_shape=(128,400))"
      ]
    },
    {
      "cell_type": "markdown",
      "metadata": {
        "id": "484WEMeuZRGh"
      },
      "source": [
        "##### Build Model : used the architecture learned from tutorial"
      ]
    },
    {
      "cell_type": "code",
      "execution_count": null,
      "metadata": {
        "id": "84UaB1O5ZRGh"
      },
      "outputs": [],
      "source": [
        "def build_first_model(input_shape):\n",
        "  model = Sequential()\n",
        "  model.add(layers.Conv2D(32, (3, 3), activation='relu', input_shape=(input_shape[0], input_shape[1], 3)))\n",
        "  model.add(layers.MaxPooling2D((2, 2)))\n",
        "  model.add(layers.Conv2D(64, (3, 3), activation='relu'))\n",
        "  model.add(layers.MaxPooling2D((2, 2)))\n",
        "  model.add(layers.Conv2D(128, (3, 3), activation='relu'))\n",
        "  model.add(layers.MaxPooling2D((2, 2)))\n",
        "  model.add(layers.Conv2D(128, (3, 3), activation='relu'))\n",
        "  model.add(layers.MaxPooling2D((2, 2)))\n",
        "  model.add(layers.Flatten())\n",
        "  model.add(layers.Dropout(0.5))\n",
        "  model.add(layers.Dense(512, activation='relu'))\n",
        "  model.add(layers.Dropout(0.5))\n",
        "  model.add(layers.Dense(256, activation='relu'))\n",
        "  model.add(layers.Dropout(0.2))\n",
        "  model.add(layers.Dense(1, activation='sigmoid'))\n",
        "\n",
        "  model.compile(\n",
        "      loss='binary_crossentropy',\n",
        "      optimizer='rmsprop',\n",
        "      metrics=['accuracy']\n",
        "  )\n",
        "\n",
        "  return model"
      ]
    },
    {
      "cell_type": "code",
      "execution_count": null,
      "metadata": {
        "colab": {
          "base_uri": "https://localhost:8080/",
          "height": 676
        },
        "id": "SN4xMmxh2mGh",
        "outputId": "d2a1988d-7b25-4523-c722-6019b4e367f0"
      },
      "outputs": [
        {
          "name": "stdout",
          "output_type": "stream",
          "text": [
            "Model: \"sequential_1\"\n",
            "_________________________________________________________________\n",
            "Layer (type)                 Output Shape              Param #   \n",
            "=================================================================\n",
            "conv2d_1 (Conv2D)            (None, 254, 798, 32)      896       \n",
            "_________________________________________________________________\n",
            "max_pooling2d_1 (MaxPooling2 (None, 127, 399, 32)      0         \n",
            "_________________________________________________________________\n",
            "conv2d_2 (Conv2D)            (None, 125, 397, 64)      18496     \n",
            "_________________________________________________________________\n",
            "max_pooling2d_2 (MaxPooling2 (None, 62, 198, 64)       0         \n",
            "_________________________________________________________________\n",
            "conv2d_3 (Conv2D)            (None, 60, 196, 128)      73856     \n",
            "_________________________________________________________________\n",
            "max_pooling2d_3 (MaxPooling2 (None, 30, 98, 128)       0         \n",
            "_________________________________________________________________\n",
            "conv2d_4 (Conv2D)            (None, 28, 96, 128)       147584    \n",
            "_________________________________________________________________\n",
            "max_pooling2d_4 (MaxPooling2 (None, 14, 48, 128)       0         \n",
            "_________________________________________________________________\n",
            "flatten_1 (Flatten)          (None, 86016)             0         \n",
            "_________________________________________________________________\n",
            "dropout_1 (Dropout)          (None, 86016)             0         \n",
            "_________________________________________________________________\n",
            "dense_1 (Dense)              (None, 512)               44040704  \n",
            "_________________________________________________________________\n",
            "dropout_2 (Dropout)          (None, 512)               0         \n",
            "_________________________________________________________________\n",
            "dense_2 (Dense)              (None, 256)               131328    \n",
            "_________________________________________________________________\n",
            "dropout_3 (Dropout)          (None, 256)               0         \n",
            "_________________________________________________________________\n",
            "dense_3 (Dense)              (None, 1)                 257       \n",
            "=================================================================\n",
            "Total params: 44,413,121\n",
            "Trainable params: 44,413,121\n",
            "Non-trainable params: 0\n",
            "_________________________________________________________________\n"
          ]
        }
      ],
      "source": [
        "model_1 = build_first_model(input_shape= (256,800))\n",
        "model_1.summary()"
      ]
    },
    {
      "cell_type": "markdown",
      "metadata": {
        "id": "u23Kwenw7OSi"
      },
      "source": [
        "To prevent the situation that the colab server was automatically disconnect, I used checkpoint to store the model after each epoch."
      ]
    },
    {
      "cell_type": "code",
      "execution_count": null,
      "metadata": {
        "id": "_MMR9ECN2mGk"
      },
      "outputs": [],
      "source": [
        "# Create checkpoint\n",
        "checkpoint = ModelCheckpoint(\n",
        "    'weights-{epoch:02d}-{val_accuracy:.2f}.hdf5',\n",
        "    verbose=2,\n",
        "    save_best_only=False,\n",
        "    save_weights_only=False,\n",
        ")"
      ]
    },
    {
      "cell_type": "code",
      "execution_count": null,
      "metadata": {
        "colab": {
          "base_uri": "https://localhost:8080/",
          "height": 1000
        },
        "id": "pgFbXusO2b4C",
        "outputId": "d0b2baae-ded9-4f7f-fa82-2280ff422656"
      },
      "outputs": [
        {
          "name": "stdout",
          "output_type": "stream",
          "text": [
            "Epoch 1/50\n",
            "220/220 [==============================] - 2871s 13s/step - loss: 0.7317 - accuracy: 0.5249 - val_loss: 0.6481 - val_accuracy: 0.5185\n",
            "\n",
            "Epoch 00001: saving model to weights-01-0.52.hdf5\n",
            "Epoch 2/50\n",
            "220/220 [==============================] - 398s 2s/step - loss: 0.6469 - accuracy: 0.6328 - val_loss: 0.6216 - val_accuracy: 0.6720\n",
            "\n",
            "Epoch 00002: saving model to weights-02-0.67.hdf5\n",
            "Epoch 3/50\n",
            "220/220 [==============================] - 402s 2s/step - loss: 0.5978 - accuracy: 0.6843 - val_loss: 0.4978 - val_accuracy: 0.6782\n",
            "\n",
            "Epoch 00003: saving model to weights-03-0.68.hdf5\n",
            "Epoch 4/50\n",
            "220/220 [==============================] - 391s 2s/step - loss: 0.5781 - accuracy: 0.6892 - val_loss: 0.4855 - val_accuracy: 0.7061\n",
            "\n",
            "Epoch 00004: saving model to weights-04-0.71.hdf5\n",
            "Epoch 5/50\n",
            "220/220 [==============================] - 396s 2s/step - loss: 0.5666 - accuracy: 0.6994 - val_loss: 0.6249 - val_accuracy: 0.6174\n",
            "\n",
            "Epoch 00005: saving model to weights-05-0.62.hdf5\n",
            "Epoch 6/50\n",
            "220/220 [==============================] - 399s 2s/step - loss: 0.5465 - accuracy: 0.7122 - val_loss: 1.5836 - val_accuracy: 0.6356\n",
            "\n",
            "Epoch 00006: saving model to weights-06-0.64.hdf5\n",
            "Epoch 7/50\n",
            "220/220 [==============================] - 396s 2s/step - loss: 0.5297 - accuracy: 0.7216 - val_loss: 0.5366 - val_accuracy: 0.7402\n",
            "\n",
            "Epoch 00007: saving model to weights-07-0.74.hdf5\n",
            "Epoch 8/50\n",
            "220/220 [==============================] - 399s 2s/step - loss: 0.5109 - accuracy: 0.7328 - val_loss: 0.5694 - val_accuracy: 0.7430\n",
            "\n",
            "Epoch 00008: saving model to weights-08-0.74.hdf5\n",
            "Epoch 9/50\n",
            "220/220 [==============================] - 397s 2s/step - loss: 0.4921 - accuracy: 0.7423 - val_loss: 0.3366 - val_accuracy: 0.7595\n",
            "\n",
            "Epoch 00009: saving model to weights-09-0.76.hdf5\n",
            "Epoch 10/50\n",
            "220/220 [==============================] - 396s 2s/step - loss: 0.4899 - accuracy: 0.7524 - val_loss: 0.4654 - val_accuracy: 0.7436\n",
            "\n",
            "Epoch 00010: saving model to weights-10-0.74.hdf5\n",
            "Epoch 11/50\n",
            "220/220 [==============================] - 399s 2s/step - loss: 0.4723 - accuracy: 0.7559 - val_loss: 0.6483 - val_accuracy: 0.7601\n",
            "\n",
            "Epoch 00011: saving model to weights-11-0.76.hdf5\n",
            "Epoch 12/50\n",
            "220/220 [==============================] - 397s 2s/step - loss: 0.4633 - accuracy: 0.7677 - val_loss: 0.3491 - val_accuracy: 0.7942\n",
            "\n",
            "Epoch 00012: saving model to weights-12-0.79.hdf5\n",
            "Epoch 13/50\n",
            "220/220 [==============================] - 396s 2s/step - loss: 0.4887 - accuracy: 0.7691 - val_loss: 0.4788 - val_accuracy: 0.8243\n",
            "\n",
            "Epoch 00013: saving model to weights-13-0.82.hdf5\n",
            "Epoch 14/50\n",
            "220/220 [==============================] - 398s 2s/step - loss: 0.4546 - accuracy: 0.7917 - val_loss: 0.2619 - val_accuracy: 0.7652\n",
            "\n",
            "Epoch 00014: saving model to weights-14-0.77.hdf5\n",
            "Epoch 15/50\n",
            "220/220 [==============================] - 407s 2s/step - loss: 0.4384 - accuracy: 0.7926 - val_loss: 0.7281 - val_accuracy: 0.7408\n",
            "\n",
            "Epoch 00015: saving model to weights-15-0.74.hdf5\n",
            "Epoch 16/50\n",
            "220/220 [==============================] - 394s 2s/step - loss: 0.4917 - accuracy: 0.7905 - val_loss: 0.4966 - val_accuracy: 0.7732\n",
            "\n",
            "Epoch 00016: saving model to weights-16-0.77.hdf5\n",
            "Epoch 17/50\n",
            "220/220 [==============================] - 392s 2s/step - loss: 0.4239 - accuracy: 0.8025 - val_loss: 0.4240 - val_accuracy: 0.7817\n",
            "\n",
            "Epoch 00017: saving model to weights-17-0.78.hdf5\n",
            "Epoch 18/50\n",
            "220/220 [==============================] - 396s 2s/step - loss: 0.4244 - accuracy: 0.8092 - val_loss: 0.4148 - val_accuracy: 0.8556\n",
            "\n",
            "Epoch 00018: saving model to weights-18-0.86.hdf5\n",
            "Epoch 19/50\n",
            "220/220 [==============================] - 396s 2s/step - loss: 0.4169 - accuracy: 0.8118 - val_loss: 0.3956 - val_accuracy: 0.8346\n",
            "\n",
            "Epoch 00019: saving model to weights-19-0.83.hdf5\n",
            "Epoch 20/50\n",
            "220/220 [==============================] - 402s 2s/step - loss: 0.4152 - accuracy: 0.8128 - val_loss: 0.3953 - val_accuracy: 0.8448\n",
            "\n",
            "Epoch 00020: saving model to weights-20-0.84.hdf5\n",
            "Epoch 21/50\n",
            "220/220 [==============================] - 396s 2s/step - loss: 0.4120 - accuracy: 0.8122 - val_loss: 0.4282 - val_accuracy: 0.8096\n",
            "\n",
            "Epoch 00021: saving model to weights-21-0.81.hdf5\n",
            "Epoch 22/50\n",
            "220/220 [==============================] - 396s 2s/step - loss: 0.3992 - accuracy: 0.8272 - val_loss: 0.3091 - val_accuracy: 0.8260\n",
            "\n",
            "Epoch 00022: saving model to weights-22-0.83.hdf5\n",
            "Epoch 23/50\n",
            "220/220 [==============================] - 395s 2s/step - loss: 0.3976 - accuracy: 0.8221 - val_loss: 0.4997 - val_accuracy: 0.8312\n",
            "\n",
            "Epoch 00023: saving model to weights-23-0.83.hdf5\n",
            "Epoch 24/50\n",
            "220/220 [==============================] - 394s 2s/step - loss: 0.3829 - accuracy: 0.8302 - val_loss: 0.3309 - val_accuracy: 0.8420\n",
            "\n",
            "Epoch 00024: saving model to weights-24-0.84.hdf5\n",
            "Epoch 25/50\n",
            "220/220 [==============================] - 393s 2s/step - loss: 0.3779 - accuracy: 0.8372 - val_loss: 0.3297 - val_accuracy: 0.8272\n",
            "\n",
            "Epoch 00025: saving model to weights-25-0.83.hdf5\n",
            "Epoch 26/50\n",
            "220/220 [==============================] - 391s 2s/step - loss: 0.3831 - accuracy: 0.8299 - val_loss: 0.4093 - val_accuracy: 0.8766\n",
            "\n",
            "Epoch 00026: saving model to weights-26-0.88.hdf5\n",
            "Epoch 27/50\n",
            "220/220 [==============================] - 403s 2s/step - loss: 0.3788 - accuracy: 0.8371 - val_loss: 0.3889 - val_accuracy: 0.8670\n",
            "\n",
            "Epoch 00027: saving model to weights-27-0.87.hdf5\n",
            "Epoch 28/50\n",
            "220/220 [==============================] - 397s 2s/step - loss: 0.3748 - accuracy: 0.8383 - val_loss: 0.2105 - val_accuracy: 0.8653\n",
            "\n",
            "Epoch 00028: saving model to weights-28-0.87.hdf5\n",
            "Epoch 29/50\n",
            "220/220 [==============================] - 396s 2s/step - loss: 0.3695 - accuracy: 0.8386 - val_loss: 0.2088 - val_accuracy: 0.8351\n",
            "\n",
            "Epoch 00029: saving model to weights-29-0.84.hdf5\n",
            "Epoch 30/50\n",
            "220/220 [==============================] - 397s 2s/step - loss: 0.3808 - accuracy: 0.8423 - val_loss: 0.3249 - val_accuracy: 0.8289\n",
            "\n",
            "Epoch 00030: saving model to weights-30-0.83.hdf5\n",
            "Epoch 31/50\n",
            "220/220 [==============================] - 396s 2s/step - loss: 0.3668 - accuracy: 0.8426 - val_loss: 0.4243 - val_accuracy: 0.8425\n",
            "\n",
            "Epoch 00031: saving model to weights-31-0.84.hdf5\n",
            "Epoch 32/50\n",
            "220/220 [==============================] - 396s 2s/step - loss: 0.3586 - accuracy: 0.8474 - val_loss: 0.2954 - val_accuracy: 0.8454\n",
            "\n",
            "Epoch 00032: saving model to weights-32-0.85.hdf5\n",
            "Epoch 33/50\n",
            "220/220 [==============================] - 396s 2s/step - loss: 0.3773 - accuracy: 0.8361 - val_loss: 0.3982 - val_accuracy: 0.8334\n",
            "\n",
            "Epoch 00033: saving model to weights-33-0.83.hdf5\n",
            "Epoch 34/50\n",
            "220/220 [==============================] - 398s 2s/step - loss: 0.3730 - accuracy: 0.8353 - val_loss: 0.7338 - val_accuracy: 0.8073\n",
            "\n",
            "Epoch 00034: saving model to weights-34-0.81.hdf5\n",
            "Epoch 35/50\n",
            "220/220 [==============================] - 398s 2s/step - loss: 0.3670 - accuracy: 0.8405 - val_loss: 0.2021 - val_accuracy: 0.8425\n",
            "\n",
            "Epoch 00035: saving model to weights-35-0.84.hdf5\n",
            "Epoch 36/50\n",
            "220/220 [==============================] - 399s 2s/step - loss: 0.3727 - accuracy: 0.8453 - val_loss: 0.4413 - val_accuracy: 0.8692\n",
            "\n",
            "Epoch 00036: saving model to weights-36-0.87.hdf5\n",
            "Epoch 37/50\n",
            "220/220 [==============================] - 404s 2s/step - loss: 0.3585 - accuracy: 0.8500 - val_loss: 0.3908 - val_accuracy: 0.8493\n",
            "\n",
            "Epoch 00037: saving model to weights-37-0.85.hdf5\n",
            "Epoch 38/50\n",
            "220/220 [==============================] - 397s 2s/step - loss: 0.3565 - accuracy: 0.8471 - val_loss: 0.3826 - val_accuracy: 0.8385\n",
            "\n",
            "Epoch 00038: saving model to weights-38-0.84.hdf5\n",
            "Epoch 39/50\n",
            "220/220 [==============================] - 397s 2s/step - loss: 0.3568 - accuracy: 0.8423 - val_loss: 0.3012 - val_accuracy: 0.8516\n",
            "\n",
            "Epoch 00039: saving model to weights-39-0.85.hdf5\n",
            "Epoch 40/50\n",
            "220/220 [==============================] - 396s 2s/step - loss: 0.3628 - accuracy: 0.8477 - val_loss: 0.5094 - val_accuracy: 0.8556\n",
            "\n",
            "Epoch 00040: saving model to weights-40-0.86.hdf5\n",
            "Epoch 41/50\n",
            "220/220 [==============================] - 394s 2s/step - loss: 0.3693 - accuracy: 0.8449 - val_loss: 0.4056 - val_accuracy: 0.8073\n",
            "\n",
            "Epoch 00041: saving model to weights-41-0.81.hdf5\n",
            "Epoch 42/50\n",
            "220/220 [==============================] - 396s 2s/step - loss: 0.3655 - accuracy: 0.8422 - val_loss: 0.2477 - val_accuracy: 0.8442\n",
            "\n",
            "Epoch 00042: saving model to weights-42-0.84.hdf5\n",
            "Epoch 43/50\n",
            "220/220 [==============================] - 398s 2s/step - loss: 0.3527 - accuracy: 0.8434 - val_loss: 0.2395 - val_accuracy: 0.8130\n",
            "\n",
            "Epoch 00043: saving model to weights-43-0.81.hdf5\n",
            "Epoch 44/50\n",
            "220/220 [==============================] - 398s 2s/step - loss: 0.3778 - accuracy: 0.8440 - val_loss: 0.2771 - val_accuracy: 0.8783\n",
            "\n",
            "Epoch 00044: saving model to weights-44-0.88.hdf5\n",
            "Epoch 45/50\n",
            "220/220 [==============================] - 397s 2s/step - loss: 0.3847 - accuracy: 0.8382 - val_loss: 0.2165 - val_accuracy: 0.8471\n",
            "\n",
            "Epoch 00045: saving model to weights-45-0.85.hdf5\n",
            "Epoch 46/50\n",
            "220/220 [==============================] - 397s 2s/step - loss: 0.3796 - accuracy: 0.8440 - val_loss: 0.1974 - val_accuracy: 0.8721\n",
            "\n",
            "Epoch 00046: saving model to weights-46-0.87.hdf5\n",
            "Epoch 47/50\n",
            "220/220 [==============================] - 395s 2s/step - loss: 0.3829 - accuracy: 0.8365 - val_loss: 0.3981 - val_accuracy: 0.8249\n",
            "\n",
            "Epoch 00047: saving model to weights-47-0.82.hdf5\n",
            "Epoch 48/50\n",
            "220/220 [==============================] - 398s 2s/step - loss: 0.3899 - accuracy: 0.8379 - val_loss: 0.3411 - val_accuracy: 0.8607\n",
            "\n",
            "Epoch 00048: saving model to weights-48-0.86.hdf5\n",
            "Epoch 49/50\n",
            "220/220 [==============================] - 396s 2s/step - loss: 0.3709 - accuracy: 0.8433 - val_loss: 0.3178 - val_accuracy: 0.8823\n",
            "\n",
            "Epoch 00049: saving model to weights-49-0.88.hdf5\n",
            "Epoch 50/50\n",
            "220/220 [==============================] - 394s 2s/step - loss: 0.4046 - accuracy: 0.8278 - val_loss: 0.3061 - val_accuracy: 0.8391\n",
            "\n",
            "Epoch 00050: saving model to weights-50-0.84.hdf5\n"
          ]
        }
      ],
      "source": [
        "# Fit the model and train for 50 epochs\n",
        "history_1 = model_1.fit_generator(train_gen, epochs=50, verbose=1, validation_data=val_gen,  callbacks=[checkpoint])"
      ]
    },
    {
      "cell_type": "code",
      "execution_count": null,
      "metadata": {
        "colab": {
          "base_uri": "https://localhost:8080/",
          "height": 295
        },
        "id": "63pW3c97u_bM",
        "outputId": "250a3253-03eb-47bd-d342-257c35a84471"
      },
      "outputs": [
        {
          "data": {
            "image/png": "[encoded data removed]",
            "text/plain": [
              "<Figure size 432x288 with 1 Axes>"
            ]
          },
          "metadata": {
            "needs_background": "light",
            "tags": []
          },
          "output_type": "display_data"
        }
      ],
      "source": [
        "plot_loss(history_1)"
      ]
    },
    {
      "cell_type": "code",
      "execution_count": null,
      "metadata": {
        "colab": {
          "base_uri": "https://localhost:8080/",
          "height": 295
        },
        "id": "fd7eBksA1_Rp",
        "outputId": "c9bec4b9-ff00-4696-9433-73c9c902f4f2"
      },
      "outputs": [
        {
          "data": {
            "image/png": "[encoded data removed]",
            "text/plain": [
              "<Figure size 432x288 with 1 Axes>"
            ]
          },
          "metadata": {
            "needs_background": "light",
            "tags": []
          },
          "output_type": "display_data"
        }
      ],
      "source": [
        "plot_acc(history_1)"
      ]
    },
    {
      "cell_type": "markdown",
      "metadata": {
        "id": "AF6-pu4g7wDP"
      },
      "source": [
        "In the loss plot, the training loss decreased stably, and though the validation loss was not as stable, it still followed the trend to decrease.\n",
        "\n",
        "In the accuracy plot, both training and validation accuracy increase stably. And it also shows that after around 30 epochs, the accuracy seems to stop improving."
      ]
    },
    {
      "cell_type": "code",
      "execution_count": null,
      "metadata": {
        "id": "krb8qD0-Gb8h"
      },
      "outputs": [],
      "source": [
        "del model_1\n",
        "gc.collect()"
      ]
    },
    {
      "cell_type": "markdown",
      "metadata": {
        "id": "7iAlXH0LhJZi"
      },
      "source": [
        "Remider: Since I stored every model, you supposed to delete the models stored in the disk if you use Colab to avoid reaching the limitation of disk."
      ]
    },
    {
      "cell_type": "markdown",
      "metadata": {
        "id": "rhwBPQ07UA3F"
      },
      "source": [
        "##### Predict if the test images are having defects\n",
        "I have run the first model twice and the above results was the second time. However, I found that the validation accuracy was higher in the first time so I used that version to predict. And I also put the hdf5 file in the cloud folder for your use.\n",
        "(But actually, the public leaderboard score has only small difference(around 0.002)between using the best model trained in the first and second time.)"
      ]
    },
    {
      "cell_type": "code",
      "execution_count": null,
      "metadata": {
        "id": "CAwJ_W6val0z"
      },
      "outputs": [],
      "source": [
        "model_1 = load_model(base_dir + '/model_1_weights-47-0.92.hdf5')"
      ]
    },
    {
      "cell_type": "code",
      "execution_count": null,
      "metadata": {
        "colab": {
          "base_uri": "https://localhost:8080/",
          "height": 35
        },
        "id": "xTz9_awwbrcD",
        "outputId": "c8e1dca5-b8f7-4635-939e-93f095498c77"
      },
      "outputs": [
        {
          "data": {
            "text/plain": [
              "(3770, 1)"
            ]
          },
          "execution_count": 25,
          "metadata": {
            "tags": []
          },
          "output_type": "execute_result"
        }
      ],
      "source": [
        "output_1 = model_1.predict_generator(test_gen)\n",
        "output_1.shape"
      ]
    },
    {
      "cell_type": "markdown",
      "metadata": {
        "id": "vPbwW4rj38Mj"
      },
      "source": [
        "The shape of output_1 is (3770,1). The length is the same as the testing images count, and the one dimensional output is a probability of having no defects."
      ]
    },
    {
      "cell_type": "code",
      "execution_count": null,
      "metadata": {
        "colab": {
          "base_uri": "https://localhost:8080/",
          "height": 202
        },
        "id": "8_WHBZtwcA2y",
        "outputId": "b18b7003-4abb-4126-88cd-b2439e05af2f"
      },
      "outputs": [
        {
          "data": {
            "text/html": [
              "<div>\n",
              "<style scoped>\n",
              "    .dataframe tbody tr th:only-of-type {\n",
              "        vertical-align: middle;\n",
              "    }\n",
              "\n",
              "    .dataframe tbody tr th {\n",
              "        vertical-align: top;\n",
              "    }\n",
              "\n",
              "    .dataframe thead th {\n",
              "        text-align: right;\n",
              "    }\n",
              "</style>\n",
              "<table border=\"1\" class=\"dataframe\">\n",
              "  <thead>\n",
              "    <tr style=\"text-align: right;\">\n",
              "      <th></th>\n",
              "      <th>File name</th>\n",
              "      <th>ImageId</th>\n",
              "      <th>No defect prob</th>\n",
              "      <th>No defect</th>\n",
              "    </tr>\n",
              "  </thead>\n",
              "  <tbody>\n",
              "    <tr>\n",
              "      <th>0</th>\n",
              "      <td>4.JPG</td>\n",
              "      <td>4</td>\n",
              "      <td>0.999969</td>\n",
              "      <td>1</td>\n",
              "    </tr>\n",
              "    <tr>\n",
              "      <th>1</th>\n",
              "      <td>10.JPG</td>\n",
              "      <td>10</td>\n",
              "      <td>0.999998</td>\n",
              "      <td>1</td>\n",
              "    </tr>\n",
              "    <tr>\n",
              "      <th>2</th>\n",
              "      <td>11.JPG</td>\n",
              "      <td>11</td>\n",
              "      <td>0.999841</td>\n",
              "      <td>1</td>\n",
              "    </tr>\n",
              "    <tr>\n",
              "      <th>3</th>\n",
              "      <td>15.JPG</td>\n",
              "      <td>15</td>\n",
              "      <td>0.375066</td>\n",
              "      <td>0</td>\n",
              "    </tr>\n",
              "    <tr>\n",
              "      <th>4</th>\n",
              "      <td>17.JPG</td>\n",
              "      <td>17</td>\n",
              "      <td>0.106881</td>\n",
              "      <td>0</td>\n",
              "    </tr>\n",
              "  </tbody>\n",
              "</table>\n",
              "</div>"
            ],
            "text/plain": [
              "  File name ImageId  No defect prob  No defect\n",
              "0     4.JPG       4        0.999969          1\n",
              "1    10.JPG      10        0.999998          1\n",
              "2    11.JPG      11        0.999841          1\n",
              "3    15.JPG      15        0.375066          0\n",
              "4    17.JPG      17        0.106881          0"
            ]
          },
          "execution_count": 26,
          "metadata": {
            "tags": []
          },
          "output_type": "execute_result"
        }
      ],
      "source": [
        "# Add the predicted value into test_df and convert the probabilities into 0 or 1 for indication of defects\n",
        "# I simply use 0.5 as the threshold for 0 and 1\n",
        "test_df['No defect prob'] = output_1\n",
        "test_df['No defect'] = (test_df['No defect prob'] > 0.5).astype('int')\n",
        "test_df.head()"
      ]
    },
    {
      "cell_type": "code",
      "execution_count": null,
      "metadata": {
        "colab": {
          "base_uri": "https://localhost:8080/",
          "height": 52
        },
        "id": "ODgQf-5Yg6xi",
        "outputId": "4206df18-c59a-4445-da7f-5e025e4c29ac"
      },
      "outputs": [
        {
          "name": "stdout",
          "output_type": "stream",
          "text": [
            "The total test images: 3770\n",
            "The number of images  without defects:  1641\n"
          ]
        }
      ],
      "source": [
        "print(\"The total test images:\", len(test_df))\n",
        "print(\"The number of images  without defects: \", test_df['No defect'].sum())"
      ]
    },
    {
      "cell_type": "markdown",
      "metadata": {
        "id": "84NXiFdchFn-"
      },
      "source": [
        "There are 1676 images with no defect, so we need to predict on the left 2094 for pixelwise defect prediction."
      ]
    },
    {
      "cell_type": "code",
      "execution_count": null,
      "metadata": {
        "colab": {
          "base_uri": "https://localhost:8080/",
          "height": 202
        },
        "id": "rBdlC1AngVGA",
        "outputId": "7f784036-6e03-402d-88a3-1de331339948"
      },
      "outputs": [
        {
          "data": {
            "text/html": [
              "<div>\n",
              "<style scoped>\n",
              "    .dataframe tbody tr th:only-of-type {\n",
              "        vertical-align: middle;\n",
              "    }\n",
              "\n",
              "    .dataframe tbody tr th {\n",
              "        vertical-align: top;\n",
              "    }\n",
              "\n",
              "    .dataframe thead th {\n",
              "        text-align: right;\n",
              "    }\n",
              "</style>\n",
              "<table border=\"1\" class=\"dataframe\">\n",
              "  <thead>\n",
              "    <tr style=\"text-align: right;\">\n",
              "      <th></th>\n",
              "      <th>File name</th>\n",
              "      <th>ImageId</th>\n",
              "      <th>No defect prob</th>\n",
              "      <th>No defect</th>\n",
              "    </tr>\n",
              "  </thead>\n",
              "  <tbody>\n",
              "    <tr>\n",
              "      <th>0</th>\n",
              "      <td>15.JPG</td>\n",
              "      <td>15</td>\n",
              "      <td>3.750660e-01</td>\n",
              "      <td>0</td>\n",
              "    </tr>\n",
              "    <tr>\n",
              "      <th>1</th>\n",
              "      <td>17.JPG</td>\n",
              "      <td>17</td>\n",
              "      <td>1.068813e-01</td>\n",
              "      <td>0</td>\n",
              "    </tr>\n",
              "    <tr>\n",
              "      <th>2</th>\n",
              "      <td>23.JPG</td>\n",
              "      <td>23</td>\n",
              "      <td>1.453403e-02</td>\n",
              "      <td>0</td>\n",
              "    </tr>\n",
              "    <tr>\n",
              "      <th>3</th>\n",
              "      <td>31.JPG</td>\n",
              "      <td>31</td>\n",
              "      <td>7.283529e-29</td>\n",
              "      <td>0</td>\n",
              "    </tr>\n",
              "    <tr>\n",
              "      <th>4</th>\n",
              "      <td>34.JPG</td>\n",
              "      <td>34</td>\n",
              "      <td>6.180525e-03</td>\n",
              "      <td>0</td>\n",
              "    </tr>\n",
              "  </tbody>\n",
              "</table>\n",
              "</div>"
            ],
            "text/plain": [
              "  File name ImageId  No defect prob  No defect\n",
              "0    15.JPG      15    3.750660e-01          0\n",
              "1    17.JPG      17    1.068813e-01          0\n",
              "2    23.JPG      23    1.453403e-02          0\n",
              "3    31.JPG      31    7.283529e-29          0\n",
              "4    34.JPG      34    6.180525e-03          0"
            ]
          },
          "execution_count": 28,
          "metadata": {
            "tags": []
          },
          "output_type": "execute_result"
        }
      ],
      "source": [
        "# Create defect_test_df which only contains images predicted to have defects\n",
        "defect_test_df = test_df[ test_df['No defect'] == 0].copy().reset_index(drop = True)\n",
        "defect_test_df.head()"
      ]
    },
    {
      "cell_type": "markdown",
      "metadata": {
        "id": "3aOj4XZI3v2t"
      },
      "source": [
        "#### Second model - detect the pixelwise defect location"
      ]
    },
    {
      "cell_type": "markdown",
      "metadata": {
        "id": "jFR1__T1oXtm"
      },
      "source": [
        "##### Build data generator"
      ]
    },
    {
      "cell_type": "code",
      "execution_count": null,
      "metadata": {
        "id": "xz62PvdCJyGD"
      },
      "outputs": [],
      "source": [
        "class DataGenerator(keras.utils.Sequence):\n",
        "  'Generates data for Keras'\n",
        "  def __init__(self, df, target_df=None, mode='fit',\n",
        "                base_path = train_dir +'/', batch_size=20, dim=(256, 1600), n_channels=1,\n",
        "                n_classes=4, random_state=10, shuffle=True):\n",
        "    self.dim = dim\n",
        "    self.batch_size = batch_size\n",
        "    self.df = df\n",
        "    self.mode = mode\n",
        "    self.base_path = base_path\n",
        "    self.target_df = target_df\n",
        "    self.defect_IDs = df['ImageId'].tolist()\n",
        "    self.n_channels = n_channels\n",
        "    self.n_classes = n_classes\n",
        "    self.shuffle = shuffle\n",
        "    self.random_state = random_state\n",
        "    self.on_epoch_end()\n",
        "\n",
        "  def __len__(self):\n",
        "    'Denotes the number of batches per epoch'\n",
        "    return int(np.floor(len(self.defect_IDs) / self.batch_size))\n",
        "\n",
        "  def __getitem__(self, index):\n",
        "    'Generate one batch of data'\n",
        "    # Find list of IDs\n",
        "    indexes = self.indexes[index*self.batch_size:(index+1)*self.batch_size]\n",
        "    defect_IDs_batch = [self.defect_IDs[k] for k in indexes]\n",
        "    X = self.__generate_X(defect_IDs_batch)\n",
        "\n",
        "    if self.mode == 'fit':\n",
        "      y = self.__generate_y(defect_IDs_batch)\n",
        "      return X, y\n",
        "    elif self.mode == 'predict':\n",
        "      return X\n",
        "    else:\n",
        "      raise AttributeError('The mode parameter should be set to \"fit\" or \"predict\".')\n",
        "\n",
        "  def on_epoch_end(self):\n",
        "    'Updates indexes after each epoch to have different orders after shuffled'\n",
        "    self.indexes = np.arange(len(self.defect_IDs))\n",
        "    if self.shuffle == True:\n",
        "        np.random.seed(self.random_state)\n",
        "        np.random.shuffle(self.indexes)\n",
        "\n",
        "  def __generate_X(self, defect_IDs_batch):\n",
        "    'generate data with batch_size samples'\n",
        "    X = np.empty((self.batch_size, self.dim[0], self.dim[1], self.n_channels))\n",
        "    for i, ID in enumerate(defect_IDs_batch):\n",
        "      img_path = (self.base_path + str(ID) + '.JPG')\n",
        "      img = self.__load_grayscale(img_path)\n",
        "      X[i,] = img\n",
        "    return X\n",
        "\n",
        "  def __generate_y(self, defect_IDs_batch):\n",
        "    'generate y_labels with batch_size samples'\n",
        "    y = np.empty((self.batch_size, self.dim[0], self.dim[1], self.n_classes), dtype=int)\n",
        "\n",
        "    for i, ID in enumerate(defect_IDs_batch):\n",
        "      image_df = self.target_df[self.target_df['ImageId'] == ID]\n",
        "      image_category = image_df['ClassId'].tolist()\n",
        "      rles = image_df['EncodedPixels'].values\n",
        "      matrix = build_matrices(image_category= image_category, rles= rles, input_shape=self.dim)\n",
        "\n",
        "      y[i, ] = matrix\n",
        "    return y\n",
        "\n",
        "  def __load_grayscale(self, img_path):\n",
        "    'load images in grayscale and do preprocessing'\n",
        "    image = cv2.imread(img_path, cv2.IMREAD_GRAYSCALE)\n",
        "    image = image.astype(np.float32) / 255.\n",
        "    image = np.expand_dims(image, axis=-1)\n",
        "    return image"
      ]
    },
    {
      "cell_type": "code",
      "execution_count": null,
      "metadata": {
        "id": "ofriHTiRHwD4"
      },
      "outputs": [],
      "source": [
        "from keras import backend as K"
      ]
    },
    {
      "cell_type": "markdown",
      "metadata": {
        "id": "gEPcEJog6o9l"
      },
      "source": [
        "Build dice_coef function by the defenition"
      ]
    },
    {
      "cell_type": "code",
      "execution_count": null,
      "metadata": {
        "id": "7UBb2mUql3-b"
      },
      "outputs": [],
      "source": [
        "def dice_coef(y_true, y_pred):\n",
        "    y_true_f = K.flatten(y_true)\n",
        "    y_pred_f = K.flatten(y_pred)\n",
        "    intersection = K.sum(y_true_f * y_pred_f)\n",
        "    return (2. * intersection) / (K.sum(y_true_f) + K.sum(y_pred_f))"
      ]
    },
    {
      "cell_type": "code",
      "execution_count": null,
      "metadata": {
        "id": "SndBGpe53FOL"
      },
      "outputs": [],
      "source": [
        "BATCH_SIZE = 30\n",
        "\n",
        "# Split the training data into sub_training(85%) and validation(15%) data\n",
        "train_set, val_set = train_test_split(\n",
        "    defect_train_df,\n",
        "    random_state=10,\n",
        "    test_size=0.15\n",
        ")\n",
        "\n",
        "# Create training data generator\n",
        "train_generator = DataGenerator(\n",
        "    df = train_set,\n",
        "    target_df=train_csv,\n",
        "    batch_size=BATCH_SIZE,\n",
        "    n_classes=4\n",
        ")\n",
        "\n",
        "# Create validation data generator\n",
        "val_generator = DataGenerator(\n",
        "    df = val_set,\n",
        "    target_df=train_csv,\n",
        "    batch_size=BATCH_SIZE,\n",
        "    n_classes=4\n",
        ")"
      ]
    },
    {
      "cell_type": "code",
      "execution_count": null,
      "metadata": {
        "id": "snM9Zg56tc-G"
      },
      "outputs": [],
      "source": [
        "def build_second_model(input_shape):\n",
        "    inputs = Input(input_shape)\n",
        "\n",
        "    c1 = Conv2D(8, (3, 3), activation='relu', padding='same') (inputs)\n",
        "    c1 = Conv2D(8, (3, 3), activation='relu', padding='same') (c1)\n",
        "    p1 = MaxPooling2D((2, 2)) (c1)\n",
        "\n",
        "    c2 = Conv2D(16, (3, 3), activation='relu', padding='same') (p1)\n",
        "    c2 = Conv2D(16, (3, 3), activation='relu', padding='same') (c2)\n",
        "    p2 = MaxPooling2D((2, 2)) (c2)\n",
        "\n",
        "    c3 = Conv2D(32, (3, 3), activation='relu', padding='same') (p2)\n",
        "    c3 = Conv2D(32, (3, 3), activation='relu', padding='same') (c3)\n",
        "    p3 = MaxPooling2D((2, 2)) (c3)\n",
        "\n",
        "    c4 = Conv2D(64, (3, 3), activation='relu', padding='same') (p3)\n",
        "    c4 = Conv2D(64, (3, 3), activation='relu', padding='same') (c4)\n",
        "    p4 = MaxPooling2D(pool_size=(2, 2)) (c4)\n",
        "\n",
        "    c5 = Conv2D(64, (3, 3), activation='relu', padding='same') (p4)\n",
        "    c5 = Conv2D(64, (3, 3), activation='relu', padding='same') (c5)\n",
        "    p5 = MaxPooling2D(pool_size=(2, 2)) (c5)\n",
        "\n",
        "    c55 = Conv2D(128, (3, 3), activation='relu', padding='same') (p5)\n",
        "    c55 = Conv2D(128, (3, 3), activation='relu', padding='same') (c55)\n",
        "\n",
        "    u6 = Conv2DTranspose(64, (2, 2), strides=(2, 2), padding='same') (c55)\n",
        "    u6 = concatenate([u6, c5])\n",
        "    c6 = Conv2D(64, (3, 3), activation='relu', padding='same') (u6)\n",
        "    c6 = Conv2D(64, (3, 3), activation='relu', padding='same') (c6)\n",
        "\n",
        "    u71 = Conv2DTranspose(32, (2, 2), strides=(2, 2), padding='same') (c6)\n",
        "    u71 = concatenate([u71, c4])\n",
        "    c71 = Conv2D(32, (3, 3), activation='relu', padding='same') (u71)\n",
        "    c61 = Conv2D(32, (3, 3), activation='relu', padding='same') (c71)\n",
        "\n",
        "    u7 = Conv2DTranspose(32, (2, 2), strides=(2, 2), padding='same') (c61)\n",
        "    u7 = concatenate([u7, c3])\n",
        "    c7 = Conv2D(32, (3, 3), activation='relu', padding='same') (u7)\n",
        "    c7 = Conv2D(32, (3, 3), activation='relu', padding='same') (c7)\n",
        "\n",
        "    u8 = Conv2DTranspose(16, (2, 2), strides=(2, 2), padding='same') (c7)\n",
        "    u8 = concatenate([u8, c2])\n",
        "    c8 = Conv2D(16, (3, 3), activation='relu', padding='same') (u8)\n",
        "    c8 = Conv2D(16, (3, 3), activation='relu', padding='same') (c8)\n",
        "\n",
        "    u9 = Conv2DTranspose(8, (2, 2), strides=(2, 2), padding='same') (c8)\n",
        "    u9 = concatenate([u9, c1], axis=3)\n",
        "    c9 = Conv2D(8, (3, 3), activation='relu', padding='same') (u9)\n",
        "    c9 = Conv2D(8, (3, 3), activation='relu', padding='same') (c9)\n",
        "\n",
        "    outputs = Conv2D(4, (1, 1), activation='sigmoid') (c9)\n",
        "\n",
        "    model = Model(inputs=[inputs], outputs=[outputs])\n",
        "    model.compile(optimizer='adam', loss='binary_crossentropy', metrics=[dice_coef])\n",
        "\n",
        "    return model"
      ]
    },
    {
      "cell_type": "code",
      "execution_count": null,
      "metadata": {
        "id": "umHT5zd7-Wq8"
      },
      "outputs": [],
      "source": [
        "model_2 = build_second_model((256,1600,1))\n",
        "model_2.summary()"
      ]
    },
    {
      "cell_type": "code",
      "execution_count": null,
      "metadata": {
        "colab": {
          "base_uri": "https://localhost:8080/",
          "height": 1000
        },
        "id": "iU6JwTXKdzj1",
        "outputId": "eb77fac1-da81-425a-f111-5e56640b1eff"
      },
      "outputs": [
        {
          "name": "stdout",
          "output_type": "stream",
          "text": [
            "Epoch 1/40\n",
            "132/132 [==============================] - 1314s 10s/step - loss: 0.5386 - dice_coef: 0.0163 - val_loss: 0.3990 - val_dice_coef: 0.0255\n",
            "\n",
            "Epoch 00001: saving model to weights-01-0.03.hdf5\n",
            "Epoch 2/40\n",
            "132/132 [==============================] - 99s 749ms/step - loss: 0.2602 - dice_coef: 0.0297 - val_loss: 0.0701 - val_dice_coef: 0.0927\n",
            "\n",
            "Epoch 00002: saving model to weights-02-0.09.hdf5\n",
            "Epoch 3/40\n",
            "132/132 [==============================] - 97s 736ms/step - loss: 0.0513 - dice_coef: 0.1987 - val_loss: 0.0300 - val_dice_coef: 0.2470\n",
            "\n",
            "Epoch 00003: saving model to weights-03-0.25.hdf5\n",
            "Epoch 4/40\n",
            "132/132 [==============================] - 99s 747ms/step - loss: 0.0409 - dice_coef: 0.2803 - val_loss: 0.0278 - val_dice_coef: 0.3294\n",
            "\n",
            "Epoch 00004: saving model to weights-04-0.33.hdf5\n",
            "Epoch 5/40\n",
            "132/132 [==============================] - 98s 743ms/step - loss: 0.0378 - dice_coef: 0.3342 - val_loss: 0.0291 - val_dice_coef: 0.4006\n",
            "\n",
            "Epoch 00005: saving model to weights-05-0.40.hdf5\n",
            "Epoch 6/40\n",
            "132/132 [==============================] - 97s 737ms/step - loss: 0.0366 - dice_coef: 0.3612 - val_loss: 0.0261 - val_dice_coef: 0.3401\n",
            "\n",
            "Epoch 00006: saving model to weights-06-0.34.hdf5\n",
            "Epoch 7/40\n",
            "132/132 [==============================] - 96s 723ms/step - loss: 0.0354 - dice_coef: 0.3772 - val_loss: 0.0253 - val_dice_coef: 0.3996\n",
            "\n",
            "Epoch 00007: saving model to weights-07-0.40.hdf5\n",
            "Epoch 8/40\n",
            "132/132 [==============================] - 97s 736ms/step - loss: 0.0342 - dice_coef: 0.3953 - val_loss: 0.0248 - val_dice_coef: 0.3964\n",
            "\n",
            "Epoch 00008: saving model to weights-08-0.40.hdf5\n",
            "Epoch 9/40\n",
            "132/132 [==============================] - 97s 736ms/step - loss: 0.0338 - dice_coef: 0.4004 - val_loss: 0.0251 - val_dice_coef: 0.3666\n",
            "\n",
            "Epoch 00009: saving model to weights-09-0.37.hdf5\n",
            "Epoch 10/40\n",
            "132/132 [==============================] - 94s 713ms/step - loss: 0.0330 - dice_coef: 0.4121 - val_loss: 0.0249 - val_dice_coef: 0.3855\n",
            "\n",
            "Epoch 00010: saving model to weights-10-0.39.hdf5\n",
            "Epoch 11/40\n",
            "132/132 [==============================] - 95s 716ms/step - loss: 0.0328 - dice_coef: 0.4197 - val_loss: 0.0255 - val_dice_coef: 0.4148\n",
            "\n",
            "Epoch 00011: saving model to weights-11-0.41.hdf5\n",
            "Epoch 12/40\n",
            "132/132 [==============================] - 98s 741ms/step - loss: 0.0325 - dice_coef: 0.4229 - val_loss: 0.0259 - val_dice_coef: 0.3492\n",
            "\n",
            "Epoch 00012: saving model to weights-12-0.35.hdf5\n",
            "Epoch 13/40\n",
            "132/132 [==============================] - 97s 733ms/step - loss: 0.0311 - dice_coef: 0.4425 - val_loss: 0.0237 - val_dice_coef: 0.4061\n",
            "\n",
            "Epoch 00013: saving model to weights-13-0.41.hdf5\n",
            "Epoch 14/40\n",
            "132/132 [==============================] - 97s 736ms/step - loss: 0.0304 - dice_coef: 0.4543 - val_loss: 0.0243 - val_dice_coef: 0.4634\n",
            "\n",
            "Epoch 00014: saving model to weights-14-0.46.hdf5\n",
            "Epoch 15/40\n",
            "132/132 [==============================] - 97s 732ms/step - loss: 0.0297 - dice_coef: 0.4624 - val_loss: 0.0254 - val_dice_coef: 0.4313\n",
            "\n",
            "Epoch 00015: saving model to weights-15-0.43.hdf5\n",
            "Epoch 16/40\n",
            "132/132 [==============================] - 97s 732ms/step - loss: 0.0292 - dice_coef: 0.4716 - val_loss: 0.0240 - val_dice_coef: 0.3767\n",
            "\n",
            "Epoch 00016: saving model to weights-16-0.38.hdf5\n",
            "Epoch 17/40\n",
            "132/132 [==============================] - 95s 720ms/step - loss: 0.0287 - dice_coef: 0.4758 - val_loss: 0.0227 - val_dice_coef: 0.4363\n",
            "\n",
            "Epoch 00017: saving model to weights-17-0.44.hdf5\n",
            "Epoch 18/40\n",
            "132/132 [==============================] - 94s 715ms/step - loss: 0.0279 - dice_coef: 0.4875 - val_loss: 0.0224 - val_dice_coef: 0.4875\n",
            "\n",
            "Epoch 00018: saving model to weights-18-0.49.hdf5\n",
            "Epoch 19/40\n",
            "132/132 [==============================] - 95s 716ms/step - loss: 0.0272 - dice_coef: 0.4961 - val_loss: 0.0221 - val_dice_coef: 0.4866\n",
            "\n",
            "Epoch 00019: saving model to weights-19-0.49.hdf5\n",
            "Epoch 20/40\n",
            "132/132 [==============================] - 94s 714ms/step - loss: 0.0262 - dice_coef: 0.5115 - val_loss: 0.0213 - val_dice_coef: 0.4971\n",
            "\n",
            "Epoch 00020: saving model to weights-20-0.50.hdf5\n",
            "Epoch 21/40\n",
            "132/132 [==============================] - 98s 745ms/step - loss: 0.0255 - dice_coef: 0.5211 - val_loss: 0.0224 - val_dice_coef: 0.4880\n",
            "\n",
            "Epoch 00021: saving model to weights-21-0.49.hdf5\n",
            "Epoch 22/40\n",
            "132/132 [==============================] - 95s 717ms/step - loss: 0.0246 - dice_coef: 0.5371 - val_loss: 0.0212 - val_dice_coef: 0.5269\n",
            "\n",
            "Epoch 00022: saving model to weights-22-0.53.hdf5\n",
            "Epoch 23/40\n",
            "132/132 [==============================] - 98s 739ms/step - loss: 0.0236 - dice_coef: 0.5545 - val_loss: 0.0207 - val_dice_coef: 0.5599\n",
            "\n",
            "Epoch 00023: saving model to weights-23-0.56.hdf5\n",
            "Epoch 24/40\n",
            "132/132 [==============================] - 97s 738ms/step - loss: 0.0225 - dice_coef: 0.5791 - val_loss: 0.0200 - val_dice_coef: 0.5499\n",
            "\n",
            "Epoch 00024: saving model to weights-24-0.55.hdf5\n",
            "Epoch 25/40\n",
            "132/132 [==============================] - 97s 738ms/step - loss: 0.0220 - dice_coef: 0.5893 - val_loss: 0.0205 - val_dice_coef: 0.5234\n",
            "\n",
            "Epoch 00025: saving model to weights-25-0.52.hdf5\n",
            "Epoch 26/40\n",
            "132/132 [==============================] - 96s 730ms/step - loss: 0.0202 - dice_coef: 0.6153 - val_loss: 0.0210 - val_dice_coef: 0.5361\n",
            "\n",
            "Epoch 00026: saving model to weights-26-0.54.hdf5\n",
            "Epoch 27/40\n",
            "132/132 [==============================] - 97s 736ms/step - loss: 0.0202 - dice_coef: 0.6186 - val_loss: 0.0209 - val_dice_coef: 0.5463\n",
            "\n",
            "Epoch 00027: saving model to weights-27-0.55.hdf5\n",
            "Epoch 28/40\n",
            "132/132 [==============================] - 98s 744ms/step - loss: 0.0193 - dice_coef: 0.6335 - val_loss: 0.0206 - val_dice_coef: 0.5907\n",
            "\n",
            "Epoch 00028: saving model to weights-28-0.59.hdf5\n",
            "Epoch 29/40\n",
            "132/132 [==============================] - 97s 733ms/step - loss: 0.0189 - dice_coef: 0.6424 - val_loss: 0.0184 - val_dice_coef: 0.5684\n",
            "\n",
            "Epoch 00029: saving model to weights-29-0.57.hdf5\n",
            "Epoch 30/40\n",
            "132/132 [==============================] - 97s 737ms/step - loss: 0.0170 - dice_coef: 0.6721 - val_loss: 0.0203 - val_dice_coef: 0.5946\n",
            "\n",
            "Epoch 00030: saving model to weights-30-0.59.hdf5\n",
            "Epoch 31/40\n",
            "132/132 [==============================] - 99s 750ms/step - loss: 0.0168 - dice_coef: 0.6761 - val_loss: 0.0205 - val_dice_coef: 0.5901\n",
            "\n",
            "Epoch 00031: saving model to weights-31-0.59.hdf5\n",
            "Epoch 32/40\n",
            "132/132 [==============================] - 98s 744ms/step - loss: 0.0165 - dice_coef: 0.6844 - val_loss: 0.0225 - val_dice_coef: 0.5644\n",
            "\n",
            "Epoch 00032: saving model to weights-32-0.56.hdf5\n",
            "Epoch 33/40\n",
            "132/132 [==============================] - 99s 748ms/step - loss: 0.0151 - dice_coef: 0.7074 - val_loss: 0.0259 - val_dice_coef: 0.5330\n",
            "\n",
            "Epoch 00033: saving model to weights-33-0.53.hdf5\n",
            "Epoch 34/40\n",
            "132/132 [==============================] - 98s 743ms/step - loss: 0.0141 - dice_coef: 0.7240 - val_loss: 0.0209 - val_dice_coef: 0.6118\n",
            "\n",
            "Epoch 00034: saving model to weights-34-0.61.hdf5\n",
            "Epoch 35/40\n",
            "132/132 [==============================] - 98s 740ms/step - loss: 0.0135 - dice_coef: 0.7366 - val_loss: 0.0230 - val_dice_coef: 0.6066\n",
            "\n",
            "Epoch 00035: saving model to weights-35-0.61.hdf5\n",
            "Epoch 36/40\n",
            "132/132 [==============================] - 97s 735ms/step - loss: 0.0128 - dice_coef: 0.7477 - val_loss: 0.0233 - val_dice_coef: 0.5966\n",
            "\n",
            "Epoch 00036: saving model to weights-36-0.60.hdf5\n",
            "Epoch 37/40\n",
            "132/132 [==============================] - 96s 727ms/step - loss: 0.0127 - dice_coef: 0.7508 - val_loss: 0.0247 - val_dice_coef: 0.5974\n",
            "\n",
            "Epoch 00037: saving model to weights-37-0.60.hdf5\n",
            "Epoch 38/40\n",
            "132/132 [==============================] - 95s 722ms/step - loss: 0.0121 - dice_coef: 0.7608 - val_loss: 0.0248 - val_dice_coef: 0.5964\n",
            "\n",
            "Epoch 00038: saving model to weights-38-0.60.hdf5\n",
            "Epoch 39/40\n",
            "132/132 [==============================] - 96s 727ms/step - loss: 0.0110 - dice_coef: 0.7833 - val_loss: 0.0263 - val_dice_coef: 0.5843\n",
            "\n",
            "Epoch 00039: saving model to weights-39-0.58.hdf5\n",
            "Epoch 40/40\n",
            "132/132 [==============================] - 98s 739ms/step - loss: 0.0112 - dice_coef: 0.7779 - val_loss: 0.0250 - val_dice_coef: 0.5849\n",
            "\n",
            "Epoch 00040: saving model to weights-40-0.58.hdf5\n"
          ]
        }
      ],
      "source": [
        "checkpoint = ModelCheckpoint(\n",
        "    'weights-{epoch:02d}-{val_dice_coef:.2f}.hdf5',\n",
        "    verbose=2,\n",
        "    save_best_only=False,\n",
        "    save_weights_only=False,\n",
        "    mode='auto'\n",
        ")\n",
        "\n",
        "\n",
        "history_2 = model_2.fit_generator(\n",
        "    train_generator,\n",
        "    validation_data=val_generator,\n",
        "    callbacks=[checkpoint],\n",
        "    epochs=40\n",
        ")"
      ]
    },
    {
      "cell_type": "code",
      "execution_count": null,
      "metadata": {
        "colab": {
          "base_uri": "https://localhost:8080/",
          "height": 295
        },
        "id": "_xgDEyfrm4Ev",
        "outputId": "97dc6f00-e6fe-4f61-9cf0-562273dceff0"
      },
      "outputs": [
        {
          "data": {
            "image/png": "[encoded data removed]",
            "text/plain": [
              "<Figure size 432x288 with 1 Axes>"
            ]
          },
          "metadata": {
            "needs_background": "light",
            "tags": []
          },
          "output_type": "display_data"
        }
      ],
      "source": [
        "plot_loss(history_2)"
      ]
    },
    {
      "cell_type": "code",
      "execution_count": null,
      "metadata": {
        "colab": {
          "base_uri": "https://localhost:8080/",
          "height": 295
        },
        "id": "0iCZnSoim75s",
        "outputId": "d07aad7c-9866-4177-a550-2b0e88f4de97"
      },
      "outputs": [
        {
          "data": {
            "image/png": "[encoded data removed]",
            "text/plain": [
              "<Figure size 432x288 with 1 Axes>"
            ]
          },
          "metadata": {
            "needs_background": "light",
            "tags": []
          },
          "output_type": "display_data"
        }
      ],
      "source": [
        "plot_dice_coef(history_2)"
      ]
    },
    {
      "cell_type": "code",
      "execution_count": null,
      "metadata": {
        "id": "XlNFwWKwqNZL"
      },
      "outputs": [],
      "source": [
        "del model_2\n",
        "gc.collect()"
      ]
    },
    {
      "cell_type": "markdown",
      "metadata": {
        "id": "A_WiAsVfe7Ed"
      },
      "source": [
        "##### Make predictions\n",
        "I chose the best version(with lowest val_loss and high val_dice_coef) as the model for prediction. And I also provided that in the cloud for your reference."
      ]
    },
    {
      "cell_type": "code",
      "execution_count": null,
      "metadata": {
        "id": "t5awVwci0fku"
      },
      "outputs": [],
      "source": [
        "model_2 = load_model(base_dir + '/model_2_weights-34-0.61.hdf5', custom_objects={'dice_coef':dice_coef})"
      ]
    },
    {
      "cell_type": "code",
      "execution_count": null,
      "metadata": {
        "colab": {
          "base_uri": "https://localhost:8080/",
          "height": 156
        },
        "id": "EBjOZBSXe-SS",
        "outputId": "d5abbaf3-0aa1-4735-844b-acb2115a9f3e"
      },
      "outputs": [
        {
          "name": "stdout",
          "output_type": "stream",
          "text": [
            "300/300 [==============================] - 84s 279ms/step\n",
            "300/300 [==============================] - 83s 278ms/step\n",
            "300/300 [==============================] - 85s 283ms/step\n",
            "300/300 [==============================] - 73s 244ms/step\n",
            "300/300 [==============================] - 76s 253ms/step\n",
            "300/300 [==============================] - 74s 246ms/step\n",
            "300/300 [==============================] - 78s 261ms/step\n",
            "29/29 [==============================] - 7s 241ms/step\n"
          ]
        }
      ],
      "source": [
        "# Create the dataframe for final submission, named sub_df\n",
        "sub_df = pd.DataFrame(columns = ['ImageId', 'ClassId', 'EncodedPixels'])\n",
        "\n",
        "# Make predictions\n",
        "for i in range(0, defect_test_df.shape[0], 300):\n",
        "    \"\"\"\n",
        "    Since it would run out of RAM if we want to store all predicted pixels at once,\n",
        "    I only made predictions on 300 images and transformed them to ideal format, and then shifted to the next round.\n",
        "    \"\"\"\n",
        "    batch_idx = list( range(i, min(defect_test_df.shape[0], i + 300)))\n",
        "\n",
        "    # Generatir test image data in batch\n",
        "    test_generator = DataGenerator(\n",
        "        df=defect_test_df.iloc[batch_idx],\n",
        "        shuffle=False,\n",
        "        mode='predict',\n",
        "        base_path=test_dir+'/',\n",
        "        target_df=None,\n",
        "        batch_size=1,\n",
        "        n_classes=4\n",
        "    )\n",
        "\n",
        "    # Make prediction\n",
        "    batch_pred_matrices = model_2.predict_generator(test_generator, verbose=1)\n",
        "\n",
        "    # Add the predicted information to the dataframe after each round of prediction\n",
        "    for j, b in enumerate(batch_idx):\n",
        "        ImageId = defect_test_df.iloc[b,1]\n",
        "        # Here use round to transform all entries into 0 and 1, which means that the threshold is 0.5\n",
        "        pred_matrices = batch_pred_matrices[j, ].round().astype(int)\n",
        "        pred_rles = build_rles(pred_matrices)\n",
        "        image_df = pd.DataFrame(columns = ['ImageId', 'ClassId', 'EncodedPixels'])\n",
        "        image_df['ImageId'] = [ImageId,ImageId,ImageId,ImageId ]\n",
        "        image_df['EncodedPixels'] = pred_rles\n",
        "        image_df['ClassId'] = [1,2,3,4]\n",
        "        sub_df = sub_df.append(image_df, ignore_index=True)"
      ]
    },
    {
      "cell_type": "code",
      "execution_count": null,
      "metadata": {
        "colab": {
          "base_uri": "https://localhost:8080/",
          "height": 662
        },
        "id": "TJSW3kpLm8VK",
        "outputId": "a79d74c1-a259-4ad6-8c53-5eec804761dc"
      },
      "outputs": [
        {
          "data": {
            "text/html": [
              "<div>\n",
              "<style scoped>\n",
              "    .dataframe tbody tr th:only-of-type {\n",
              "        vertical-align: middle;\n",
              "    }\n",
              "\n",
              "    .dataframe tbody tr th {\n",
              "        vertical-align: top;\n",
              "    }\n",
              "\n",
              "    .dataframe thead th {\n",
              "        text-align: right;\n",
              "    }\n",
              "</style>\n",
              "<table border=\"1\" class=\"dataframe\">\n",
              "  <thead>\n",
              "    <tr style=\"text-align: right;\">\n",
              "      <th></th>\n",
              "      <th>ImageId</th>\n",
              "      <th>ClassId</th>\n",
              "      <th>EncodedPixels</th>\n",
              "    </tr>\n",
              "  </thead>\n",
              "  <tbody>\n",
              "    <tr>\n",
              "      <th>0</th>\n",
              "      <td>15</td>\n",
              "      <td>1</td>\n",
              "      <td>147434 1</td>\n",
              "    </tr>\n",
              "    <tr>\n",
              "      <th>1</th>\n",
              "      <td>15</td>\n",
              "      <td>2</td>\n",
              "      <td></td>\n",
              "    </tr>\n",
              "    <tr>\n",
              "      <th>2</th>\n",
              "      <td>15</td>\n",
              "      <td>3</td>\n",
              "      <td></td>\n",
              "    </tr>\n",
              "    <tr>\n",
              "      <th>3</th>\n",
              "      <td>15</td>\n",
              "      <td>4</td>\n",
              "      <td></td>\n",
              "    </tr>\n",
              "    <tr>\n",
              "      <th>4</th>\n",
              "      <td>17</td>\n",
              "      <td>1</td>\n",
              "      <td></td>\n",
              "    </tr>\n",
              "    <tr>\n",
              "      <th>5</th>\n",
              "      <td>17</td>\n",
              "      <td>2</td>\n",
              "      <td></td>\n",
              "    </tr>\n",
              "    <tr>\n",
              "      <th>6</th>\n",
              "      <td>17</td>\n",
              "      <td>3</td>\n",
              "      <td>191315 4 191570 5 191814 3 191824 8 192069 1 1...</td>\n",
              "    </tr>\n",
              "    <tr>\n",
              "      <th>7</th>\n",
              "      <td>17</td>\n",
              "      <td>4</td>\n",
              "      <td>8795 3 8799 3 8803 2 9051 7 9059 3 9301 22 955...</td>\n",
              "    </tr>\n",
              "    <tr>\n",
              "      <th>8</th>\n",
              "      <td>23</td>\n",
              "      <td>1</td>\n",
              "      <td></td>\n",
              "    </tr>\n",
              "    <tr>\n",
              "      <th>9</th>\n",
              "      <td>23</td>\n",
              "      <td>2</td>\n",
              "      <td></td>\n",
              "    </tr>\n",
              "    <tr>\n",
              "      <th>10</th>\n",
              "      <td>23</td>\n",
              "      <td>3</td>\n",
              "      <td>319369 13 319623 18 319875 22 320130 24 320385...</td>\n",
              "    </tr>\n",
              "    <tr>\n",
              "      <th>11</th>\n",
              "      <td>23</td>\n",
              "      <td>4</td>\n",
              "      <td></td>\n",
              "    </tr>\n",
              "    <tr>\n",
              "      <th>12</th>\n",
              "      <td>31</td>\n",
              "      <td>1</td>\n",
              "      <td></td>\n",
              "    </tr>\n",
              "    <tr>\n",
              "      <th>13</th>\n",
              "      <td>31</td>\n",
              "      <td>2</td>\n",
              "      <td></td>\n",
              "    </tr>\n",
              "    <tr>\n",
              "      <th>14</th>\n",
              "      <td>31</td>\n",
              "      <td>3</td>\n",
              "      <td>25482 4 25736 9 25991 11 26244 17 26282 6 2649...</td>\n",
              "    </tr>\n",
              "    <tr>\n",
              "      <th>15</th>\n",
              "      <td>31</td>\n",
              "      <td>4</td>\n",
              "      <td></td>\n",
              "    </tr>\n",
              "    <tr>\n",
              "      <th>16</th>\n",
              "      <td>34</td>\n",
              "      <td>1</td>\n",
              "      <td></td>\n",
              "    </tr>\n",
              "    <tr>\n",
              "      <th>17</th>\n",
              "      <td>34</td>\n",
              "      <td>2</td>\n",
              "      <td></td>\n",
              "    </tr>\n",
              "    <tr>\n",
              "      <th>18</th>\n",
              "      <td>34</td>\n",
              "      <td>3</td>\n",
              "      <td>72507 7 72758 23 72782 5 72788 1 72792 1 72804...</td>\n",
              "    </tr>\n",
              "    <tr>\n",
              "      <th>19</th>\n",
              "      <td>34</td>\n",
              "      <td>4</td>\n",
              "      <td></td>\n",
              "    </tr>\n",
              "  </tbody>\n",
              "</table>\n",
              "</div>"
            ],
            "text/plain": [
              "   ImageId ClassId                                      EncodedPixels\n",
              "0       15       1                                           147434 1\n",
              "1       15       2                                                   \n",
              "2       15       3                                                   \n",
              "3       15       4                                                   \n",
              "4       17       1                                                   \n",
              "5       17       2                                                   \n",
              "6       17       3  191315 4 191570 5 191814 3 191824 8 192069 1 1...\n",
              "7       17       4  8795 3 8799 3 8803 2 9051 7 9059 3 9301 22 955...\n",
              "8       23       1                                                   \n",
              "9       23       2                                                   \n",
              "10      23       3  319369 13 319623 18 319875 22 320130 24 320385...\n",
              "11      23       4                                                   \n",
              "12      31       1                                                   \n",
              "13      31       2                                                   \n",
              "14      31       3  25482 4 25736 9 25991 11 26244 17 26282 6 2649...\n",
              "15      31       4                                                   \n",
              "16      34       1                                                   \n",
              "17      34       2                                                   \n",
              "18      34       3  72507 7 72758 23 72782 5 72788 1 72792 1 72804...\n",
              "19      34       4                                                   "
            ]
          },
          "execution_count": 105,
          "metadata": {
            "tags": []
          },
          "output_type": "execute_result"
        }
      ],
      "source": [
        "sub_df.head(20)"
      ]
    },
    {
      "cell_type": "code",
      "execution_count": null,
      "metadata": {
        "colab": {
          "base_uri": "https://localhost:8080/",
          "height": 355
        },
        "id": "k3vOmz3g7yPw",
        "outputId": "a3e93097-78d5-44e2-891f-70f9eccad6b2"
      },
      "outputs": [
        {
          "data": {
            "text/html": [
              "<div>\n",
              "<style scoped>\n",
              "    .dataframe tbody tr th:only-of-type {\n",
              "        vertical-align: middle;\n",
              "    }\n",
              "\n",
              "    .dataframe tbody tr th {\n",
              "        vertical-align: top;\n",
              "    }\n",
              "\n",
              "    .dataframe thead th {\n",
              "        text-align: right;\n",
              "    }\n",
              "</style>\n",
              "<table border=\"1\" class=\"dataframe\">\n",
              "  <thead>\n",
              "    <tr style=\"text-align: right;\">\n",
              "      <th></th>\n",
              "      <th>ImageId</th>\n",
              "      <th>ClassId</th>\n",
              "      <th>EncodedPixels</th>\n",
              "    </tr>\n",
              "  </thead>\n",
              "  <tbody>\n",
              "    <tr>\n",
              "      <th>0</th>\n",
              "      <td>15</td>\n",
              "      <td>1</td>\n",
              "      <td>147434 1</td>\n",
              "    </tr>\n",
              "    <tr>\n",
              "      <th>6</th>\n",
              "      <td>17</td>\n",
              "      <td>3</td>\n",
              "      <td>191315 4 191570 5 191814 3 191824 8 192069 1 1...</td>\n",
              "    </tr>\n",
              "    <tr>\n",
              "      <th>7</th>\n",
              "      <td>17</td>\n",
              "      <td>4</td>\n",
              "      <td>8795 3 8799 3 8803 2 9051 7 9059 3 9301 22 955...</td>\n",
              "    </tr>\n",
              "    <tr>\n",
              "      <th>10</th>\n",
              "      <td>23</td>\n",
              "      <td>3</td>\n",
              "      <td>319369 13 319623 18 319875 22 320130 24 320385...</td>\n",
              "    </tr>\n",
              "    <tr>\n",
              "      <th>14</th>\n",
              "      <td>31</td>\n",
              "      <td>3</td>\n",
              "      <td>25482 4 25736 9 25991 11 26244 17 26282 6 2649...</td>\n",
              "    </tr>\n",
              "    <tr>\n",
              "      <th>18</th>\n",
              "      <td>34</td>\n",
              "      <td>3</td>\n",
              "      <td>72507 7 72758 23 72782 5 72788 1 72792 1 72804...</td>\n",
              "    </tr>\n",
              "    <tr>\n",
              "      <th>22</th>\n",
              "      <td>52</td>\n",
              "      <td>3</td>\n",
              "      <td>280744 5 280998 13 281252 17 281497 1 281504 2...</td>\n",
              "    </tr>\n",
              "    <tr>\n",
              "      <th>26</th>\n",
              "      <td>55</td>\n",
              "      <td>3</td>\n",
              "      <td>290537 11 290787 19 291040 23 291291 28 291516...</td>\n",
              "    </tr>\n",
              "    <tr>\n",
              "      <th>30</th>\n",
              "      <td>61</td>\n",
              "      <td>3</td>\n",
              "      <td>309316 1 309570 11 309820 1 309822 1 309824 16...</td>\n",
              "    </tr>\n",
              "    <tr>\n",
              "      <th>32</th>\n",
              "      <td>66</td>\n",
              "      <td>1</td>\n",
              "      <td>77076 22 77327 1 77329 27 77578 1 77580 1 7758...</td>\n",
              "    </tr>\n",
              "  </tbody>\n",
              "</table>\n",
              "</div>"
            ],
            "text/plain": [
              "   ImageId ClassId                                      EncodedPixels\n",
              "0       15       1                                           147434 1\n",
              "6       17       3  191315 4 191570 5 191814 3 191824 8 192069 1 1...\n",
              "7       17       4  8795 3 8799 3 8803 2 9051 7 9059 3 9301 22 955...\n",
              "10      23       3  319369 13 319623 18 319875 22 320130 24 320385...\n",
              "14      31       3  25482 4 25736 9 25991 11 26244 17 26282 6 2649...\n",
              "18      34       3  72507 7 72758 23 72782 5 72788 1 72792 1 72804...\n",
              "22      52       3  280744 5 280998 13 281252 17 281497 1 281504 2...\n",
              "26      55       3  290537 11 290787 19 291040 23 291291 28 291516...\n",
              "30      61       3  309316 1 309570 11 309820 1 309822 1 309824 16...\n",
              "32      66       1  77076 22 77327 1 77329 27 77578 1 77580 1 7758..."
            ]
          },
          "execution_count": 106,
          "metadata": {
            "tags": []
          },
          "output_type": "execute_result"
        }
      ],
      "source": [
        "# Extract only the rows with defect predicted\n",
        "final_sub_df = sub_df[ sub_df['EncodedPixels'] != \"\"]\n",
        "final_sub_df.head(10)"
      ]
    },
    {
      "cell_type": "code",
      "execution_count": null,
      "metadata": {
        "colab": {
          "base_uri": "https://localhost:8080/",
          "height": 104
        },
        "id": "1ZAfBOdXAC0t",
        "outputId": "2d33dcbf-9a0e-4b1b-beaa-df1e4d913efb"
      },
      "outputs": [
        {
          "data": {
            "text/plain": [
              "3    1860\n",
              "4     470\n",
              "1     302\n",
              "2      49\n",
              "Name: ClassId, dtype: int64"
            ]
          },
          "execution_count": 107,
          "metadata": {
            "tags": []
          },
          "output_type": "execute_result"
        }
      ],
      "source": [
        "final_sub_df['ClassId'].value_counts()"
      ]
    },
    {
      "cell_type": "code",
      "execution_count": null,
      "metadata": {
        "colab": {
          "base_uri": "https://localhost:8080/",
          "height": 35
        },
        "id": "BcWFyJNV_YS3",
        "outputId": "190c405e-37ed-4002-d81f-e9f307f82c2e"
      },
      "outputs": [
        {
          "data": {
            "text/plain": [
              "(2681, 3)"
            ]
          },
          "execution_count": 108,
          "metadata": {
            "tags": []
          },
          "output_type": "execute_result"
        }
      ],
      "source": [
        "final_sub_df.shape"
      ]
    },
    {
      "cell_type": "code",
      "execution_count": null,
      "metadata": {
        "id": "UfvB2yVU94Bh"
      },
      "outputs": [],
      "source": [
        "final_sub_df.to_csv(\"Submission.csv\", index = False)\n",
        "files.download(\"Submission.csv\")"
      ]
    },
    {
      "cell_type": "markdown",
      "source": [
        "**References**\n",
        "\n",
        "In this practice, except for the lectures and tutorials in the course of Quantative Business Science, I also took the following notebooks on Kaggle as refereneces and discussed with my classmate.\n",
        "1. https://www.kaggle.com/xhlulu/severstal-simple-2-step-pipeline (https://www.kaggle.com/xhlulu/severstal-simple-2-step-pipeline)\n",
        "2. https://www.kaggle.com/cdeotte/keras-unet-with-eda (https://www.kaggle.com/cdeotte/keras-unet-with-eda)"
      ],
      "metadata": {
        "id": "T-pgLiasiVpI"
      }
    }
  ],
  "metadata": {
    "colab": {
      "machine_shape": "hm",
      "provenance": []
    },
    "kernelspec": {
      "display_name": "Python 3",
      "language": "python",
      "name": "python3"
    },
    "language_info": {
      "codemirror_mode": {
        "name": "ipython",
        "version": 3
      },
      "file_extension": ".py",
      "mimetype": "text/x-python",
      "name": "python",
      "nbconvert_exporter": "python",
      "pygments_lexer": "ipython3",
      "version": "3.7.3"
    }
  },
  "nbformat": 4,
  "nbformat_minor": 0
}